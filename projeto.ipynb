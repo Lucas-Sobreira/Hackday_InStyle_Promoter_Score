{
 "cells": [
  {
   "cell_type": "code",
   "execution_count": 183,
   "metadata": {},
   "outputs": [],
   "source": [
    "import pandas as pd\n",
    "# pd.set_option('max_colwidth', 20)\n",
    "\n",
    "import numpy as np\n",
    "import seaborn as sns\n",
    "from matplotlib import pyplot\n",
    "\n",
    "import inflection\n",
    "\n",
    "import warnings\n",
    "warnings.filterwarnings('ignore')"
   ]
  },
  {
   "cell_type": "markdown",
   "metadata": {},
   "source": [
    "## Loadind Data"
   ]
  },
  {
   "cell_type": "code",
   "execution_count": 40,
   "metadata": {},
   "outputs": [
    {
     "data": {
      "text/html": [
       "<div>\n",
       "<style scoped>\n",
       "    .dataframe tbody tr th:only-of-type {\n",
       "        vertical-align: middle;\n",
       "    }\n",
       "\n",
       "    .dataframe tbody tr th {\n",
       "        vertical-align: top;\n",
       "    }\n",
       "\n",
       "    .dataframe thead th {\n",
       "        text-align: right;\n",
       "    }\n",
       "</style>\n",
       "<table border=\"1\" class=\"dataframe\">\n",
       "  <thead>\n",
       "    <tr style=\"text-align: right;\">\n",
       "      <th></th>\n",
       "      <th>id</th>\n",
       "      <th>Gender</th>\n",
       "      <th>Customer Type</th>\n",
       "      <th>Age</th>\n",
       "      <th>Type of Purchase</th>\n",
       "      <th>Store size</th>\n",
       "      <th>Store distance</th>\n",
       "      <th>InStore wifi</th>\n",
       "      <th>Open/Close time convenient</th>\n",
       "      <th>Easy of online shopping</th>\n",
       "      <th>...</th>\n",
       "      <th>Kids entertainment</th>\n",
       "      <th>Seller service</th>\n",
       "      <th>Showroom</th>\n",
       "      <th>Self-Store</th>\n",
       "      <th>Purchase service</th>\n",
       "      <th>Store Service</th>\n",
       "      <th>Cleanliness</th>\n",
       "      <th>Carrier delay in minutes</th>\n",
       "      <th>Delivery delay in minutes</th>\n",
       "      <th>Satisfaction</th>\n",
       "    </tr>\n",
       "  </thead>\n",
       "  <tbody>\n",
       "    <tr>\n",
       "      <th>0</th>\n",
       "      <td>70172</td>\n",
       "      <td>Male</td>\n",
       "      <td>Loyal Customer</td>\n",
       "      <td>13</td>\n",
       "      <td>Personal</td>\n",
       "      <td>Small</td>\n",
       "      <td>460</td>\n",
       "      <td>3</td>\n",
       "      <td>4</td>\n",
       "      <td>3</td>\n",
       "      <td>...</td>\n",
       "      <td>5</td>\n",
       "      <td>4</td>\n",
       "      <td>3</td>\n",
       "      <td>4</td>\n",
       "      <td>4</td>\n",
       "      <td>5</td>\n",
       "      <td>5</td>\n",
       "      <td>25</td>\n",
       "      <td>18.0</td>\n",
       "      <td>Neutral or Dissatisfaction</td>\n",
       "    </tr>\n",
       "    <tr>\n",
       "      <th>1</th>\n",
       "      <td>5047</td>\n",
       "      <td>Male</td>\n",
       "      <td>disloyal Customer</td>\n",
       "      <td>25</td>\n",
       "      <td>Gift</td>\n",
       "      <td>Large</td>\n",
       "      <td>235</td>\n",
       "      <td>3</td>\n",
       "      <td>2</td>\n",
       "      <td>3</td>\n",
       "      <td>...</td>\n",
       "      <td>1</td>\n",
       "      <td>1</td>\n",
       "      <td>5</td>\n",
       "      <td>3</td>\n",
       "      <td>1</td>\n",
       "      <td>4</td>\n",
       "      <td>1</td>\n",
       "      <td>1</td>\n",
       "      <td>6.0</td>\n",
       "      <td>Neutral or Dissatisfaction</td>\n",
       "    </tr>\n",
       "    <tr>\n",
       "      <th>2</th>\n",
       "      <td>110028</td>\n",
       "      <td>Female</td>\n",
       "      <td>Loyal Customer</td>\n",
       "      <td>26</td>\n",
       "      <td>Gift</td>\n",
       "      <td>Large</td>\n",
       "      <td>1142</td>\n",
       "      <td>2</td>\n",
       "      <td>2</td>\n",
       "      <td>2</td>\n",
       "      <td>...</td>\n",
       "      <td>5</td>\n",
       "      <td>4</td>\n",
       "      <td>3</td>\n",
       "      <td>4</td>\n",
       "      <td>4</td>\n",
       "      <td>4</td>\n",
       "      <td>5</td>\n",
       "      <td>0</td>\n",
       "      <td>0.0</td>\n",
       "      <td>Satisfied</td>\n",
       "    </tr>\n",
       "    <tr>\n",
       "      <th>3</th>\n",
       "      <td>24026</td>\n",
       "      <td>Female</td>\n",
       "      <td>Loyal Customer</td>\n",
       "      <td>25</td>\n",
       "      <td>Gift</td>\n",
       "      <td>Large</td>\n",
       "      <td>562</td>\n",
       "      <td>2</td>\n",
       "      <td>5</td>\n",
       "      <td>5</td>\n",
       "      <td>...</td>\n",
       "      <td>2</td>\n",
       "      <td>2</td>\n",
       "      <td>5</td>\n",
       "      <td>3</td>\n",
       "      <td>1</td>\n",
       "      <td>4</td>\n",
       "      <td>2</td>\n",
       "      <td>11</td>\n",
       "      <td>9.0</td>\n",
       "      <td>Neutral or Dissatisfaction</td>\n",
       "    </tr>\n",
       "    <tr>\n",
       "      <th>4</th>\n",
       "      <td>119299</td>\n",
       "      <td>Male</td>\n",
       "      <td>Loyal Customer</td>\n",
       "      <td>61</td>\n",
       "      <td>Gift</td>\n",
       "      <td>Large</td>\n",
       "      <td>214</td>\n",
       "      <td>3</td>\n",
       "      <td>3</td>\n",
       "      <td>3</td>\n",
       "      <td>...</td>\n",
       "      <td>3</td>\n",
       "      <td>3</td>\n",
       "      <td>4</td>\n",
       "      <td>4</td>\n",
       "      <td>3</td>\n",
       "      <td>3</td>\n",
       "      <td>3</td>\n",
       "      <td>0</td>\n",
       "      <td>0.0</td>\n",
       "      <td>Satisfied</td>\n",
       "    </tr>\n",
       "  </tbody>\n",
       "</table>\n",
       "<p>5 rows × 24 columns</p>\n",
       "</div>"
      ],
      "text/plain": [
       "       id  Gender      Customer Type  Age Type of Purchase Store size  \\\n",
       "0   70172    Male     Loyal Customer   13         Personal      Small   \n",
       "1    5047    Male  disloyal Customer   25             Gift      Large   \n",
       "2  110028  Female     Loyal Customer   26             Gift      Large   \n",
       "3   24026  Female     Loyal Customer   25             Gift      Large   \n",
       "4  119299    Male     Loyal Customer   61             Gift      Large   \n",
       "\n",
       "   Store distance  InStore wifi  Open/Close time convenient  \\\n",
       "0             460             3                           4   \n",
       "1             235             3                           2   \n",
       "2            1142             2                           2   \n",
       "3             562             2                           5   \n",
       "4             214             3                           3   \n",
       "\n",
       "   Easy of online shopping  ...  Kids entertainment  Seller service  \\\n",
       "0                        3  ...                   5               4   \n",
       "1                        3  ...                   1               1   \n",
       "2                        2  ...                   5               4   \n",
       "3                        5  ...                   2               2   \n",
       "4                        3  ...                   3               3   \n",
       "\n",
       "   Showroom   Self-Store  Purchase service  Store Service  Cleanliness  \\\n",
       "0          3           4                 4              5            5   \n",
       "1          5           3                 1              4            1   \n",
       "2          3           4                 4              4            5   \n",
       "3          5           3                 1              4            2   \n",
       "4          4           4                 3              3            3   \n",
       "\n",
       "   Carrier delay in minutes  Delivery delay in minutes  \\\n",
       "0                        25                       18.0   \n",
       "1                         1                        6.0   \n",
       "2                         0                        0.0   \n",
       "3                        11                        9.0   \n",
       "4                         0                        0.0   \n",
       "\n",
       "                 Satisfaction  \n",
       "0  Neutral or Dissatisfaction  \n",
       "1  Neutral or Dissatisfaction  \n",
       "2                   Satisfied  \n",
       "3  Neutral or Dissatisfaction  \n",
       "4                   Satisfied  \n",
       "\n",
       "[5 rows x 24 columns]"
      ]
     },
     "execution_count": 40,
     "metadata": {},
     "output_type": "execute_result"
    }
   ],
   "source": [
    "path = \"./Data/\"\n",
    "df = pd.read_csv(path + 'train.csv')\n",
    "df.head()"
   ]
  },
  {
   "cell_type": "markdown",
   "metadata": {},
   "source": [
    "## 1.0 Descrição dos Dados"
   ]
  },
  {
   "cell_type": "code",
   "execution_count": 66,
   "metadata": {},
   "outputs": [],
   "source": [
    "df1 = df.copy()"
   ]
  },
  {
   "cell_type": "code",
   "execution_count": 45,
   "metadata": {},
   "outputs": [
    {
     "data": {
      "text/plain": [
       "Index(['id', 'Gender', 'Customer Type', 'Age', 'Type of Purchase',\n",
       "       'Store size', 'Store distance', 'InStore wifi',\n",
       "       'Open/Close time convenient', 'Easy of online shopping',\n",
       "       'Store location', 'Toilet cleaning', 'Dressing room', 'Waiting room',\n",
       "       'Kids entertainment', 'Seller service', 'Showroom ', 'Self-Store',\n",
       "       'Purchase service', 'Store Service', 'Cleanliness',\n",
       "       'Carrier delay in minutes', 'Delivery delay in minutes',\n",
       "       'Satisfaction'],\n",
       "      dtype='object')"
      ]
     },
     "execution_count": 45,
     "metadata": {},
     "output_type": "execute_result"
    }
   ],
   "source": [
    "df1.columns"
   ]
  },
  {
   "cell_type": "markdown",
   "metadata": {},
   "source": [
    "### 1.1 Rename Columns"
   ]
  },
  {
   "cell_type": "code",
   "execution_count": 67,
   "metadata": {},
   "outputs": [
    {
     "data": {
      "text/plain": [
       "Index(['id', 'Gender', 'Customer_Type', 'Age', 'Type_of_Purchase',\n",
       "       'Store_size', 'Store_distance', 'InStore_wifi',\n",
       "       'Open_Close_time_convenient', 'Easy_of_online_shopping',\n",
       "       'Store_location', 'Toilet_cleaning', 'Dressing_room', 'Waiting_room',\n",
       "       'Kids_entertainment', 'Seller_service', 'Showroom_', 'Self_Store',\n",
       "       'Purchase_service', 'Store_Service', 'Cleanliness',\n",
       "       'Carrier_delay_in_minutes', 'Delivery_delay_in_minutes',\n",
       "       'Satisfaction'],\n",
       "      dtype='object')"
      ]
     },
     "execution_count": 67,
     "metadata": {},
     "output_type": "execute_result"
    }
   ],
   "source": [
    "cols_old = df1.columns\n",
    "\n",
    "snakecase = lambda x: x.replace(' ', '_').replace('/', '_').replace('-', '_')\n",
    "\n",
    "cols_new = list( map( snakecase, cols_old ) )\n",
    "\n",
    "df1.columns = cols_new\n",
    "df1.columns"
   ]
  },
  {
   "cell_type": "markdown",
   "metadata": {},
   "source": [
    "### 1.2 Data Dimensions"
   ]
  },
  {
   "cell_type": "code",
   "execution_count": 47,
   "metadata": {},
   "outputs": [
    {
     "data": {
      "text/plain": [
       "(103904, 24)"
      ]
     },
     "execution_count": 47,
     "metadata": {},
     "output_type": "execute_result"
    }
   ],
   "source": [
    "df1.shape"
   ]
  },
  {
   "cell_type": "markdown",
   "metadata": {},
   "source": [
    "### 1.3 Data Types"
   ]
  },
  {
   "cell_type": "code",
   "execution_count": 48,
   "metadata": {},
   "outputs": [
    {
     "data": {
      "text/plain": [
       "id                              int64\n",
       "Gender                         object\n",
       "Customer_Type                  object\n",
       "Age                             int64\n",
       "Type_of_Purchase               object\n",
       "Store_size                     object\n",
       "Store_distance                  int64\n",
       "InStore_wifi                    int64\n",
       "Open_Close_time_convenient      int64\n",
       "Easy_of_online_shopping         int64\n",
       "Store_location                  int64\n",
       "Toilet_cleaning                 int64\n",
       "Dressing_room                   int64\n",
       "Waiting_room                    int64\n",
       "Kids_entertainment              int64\n",
       "Seller_service                  int64\n",
       "Showroom_                       int64\n",
       "Self_Store                      int64\n",
       "Purchase_service                int64\n",
       "Store_Service                   int64\n",
       "Cleanliness                     int64\n",
       "Carrier_delay_in_minutes        int64\n",
       "Delivery_delay_in_minutes     float64\n",
       "Satisfaction                   object\n",
       "dtype: object"
      ]
     },
     "execution_count": 48,
     "metadata": {},
     "output_type": "execute_result"
    }
   ],
   "source": [
    "df1.dtypes"
   ]
  },
  {
   "cell_type": "markdown",
   "metadata": {},
   "source": [
    "### 1.4 Check NA"
   ]
  },
  {
   "cell_type": "code",
   "execution_count": 49,
   "metadata": {},
   "outputs": [
    {
     "data": {
      "text/plain": [
       "id                            0.000000\n",
       "Gender                        0.000000\n",
       "Customer Type                 0.000000\n",
       "Age                           0.000000\n",
       "Type of Purchase              0.000000\n",
       "Store size                    0.000000\n",
       "Store distance                0.000000\n",
       "InStore wifi                  0.000000\n",
       "Open/Close time convenient    0.000000\n",
       "Easy of online shopping       0.000000\n",
       "Store location                0.000000\n",
       "Toilet cleaning               0.000000\n",
       "Dressing room                 0.000000\n",
       "Waiting room                  0.000000\n",
       "Kids entertainment            0.000000\n",
       "Seller service                0.000000\n",
       "Showroom                      0.000000\n",
       "Self-Store                    0.000000\n",
       "Purchase service              0.000000\n",
       "Store Service                 0.000000\n",
       "Cleanliness                   0.000000\n",
       "Carrier delay in minutes      0.000000\n",
       "Delivery delay in minutes     0.298352\n",
       "Satisfaction                  0.000000\n",
       "dtype: float64"
      ]
     },
     "execution_count": 49,
     "metadata": {},
     "output_type": "execute_result"
    }
   ],
   "source": [
    "(df.isna().sum() / df.shape[0]) * 100 "
   ]
  },
  {
   "cell_type": "markdown",
   "metadata": {},
   "source": [
    "### 1.5 Fillout NA"
   ]
  },
  {
   "cell_type": "markdown",
   "metadata": {},
   "source": [
    "### 1.6 Descriptive Statiscal"
   ]
  },
  {
   "cell_type": "code",
   "execution_count": 68,
   "metadata": {},
   "outputs": [],
   "source": [
    "# Separando os valores numericos e descritivos\n",
    "\n",
    "num_attributes = df1.select_dtypes( include=['int64', 'float64'] )\n",
    "cat_attributes = df1.select_dtypes( exclude=['int64', 'float64', 'datetime64[ns]'] )"
   ]
  },
  {
   "cell_type": "markdown",
   "metadata": {},
   "source": [
    "#### Variaveis Numéricas"
   ]
  },
  {
   "cell_type": "code",
   "execution_count": 51,
   "metadata": {},
   "outputs": [
    {
     "data": {
      "text/html": [
       "<div>\n",
       "<style scoped>\n",
       "    .dataframe tbody tr th:only-of-type {\n",
       "        vertical-align: middle;\n",
       "    }\n",
       "\n",
       "    .dataframe tbody tr th {\n",
       "        vertical-align: top;\n",
       "    }\n",
       "\n",
       "    .dataframe thead th {\n",
       "        text-align: right;\n",
       "    }\n",
       "</style>\n",
       "<table border=\"1\" class=\"dataframe\">\n",
       "  <thead>\n",
       "    <tr style=\"text-align: right;\">\n",
       "      <th></th>\n",
       "      <th>id</th>\n",
       "      <th>Age</th>\n",
       "      <th>Store_distance</th>\n",
       "      <th>InStore_wifi</th>\n",
       "      <th>Open_Close_time_convenient</th>\n",
       "      <th>Easy_of_online_shopping</th>\n",
       "      <th>Store_location</th>\n",
       "      <th>Toilet_cleaning</th>\n",
       "      <th>Dressing_room</th>\n",
       "      <th>Waiting_room</th>\n",
       "      <th>Kids_entertainment</th>\n",
       "      <th>Seller_service</th>\n",
       "      <th>Showroom_</th>\n",
       "      <th>Self_Store</th>\n",
       "      <th>Purchase_service</th>\n",
       "      <th>Store_Service</th>\n",
       "      <th>Cleanliness</th>\n",
       "      <th>Carrier_delay_in_minutes</th>\n",
       "      <th>Delivery_delay_in_minutes</th>\n",
       "    </tr>\n",
       "  </thead>\n",
       "  <tbody>\n",
       "    <tr>\n",
       "      <th>0</th>\n",
       "      <td>70172</td>\n",
       "      <td>13</td>\n",
       "      <td>460</td>\n",
       "      <td>3</td>\n",
       "      <td>4</td>\n",
       "      <td>3</td>\n",
       "      <td>1</td>\n",
       "      <td>5</td>\n",
       "      <td>3</td>\n",
       "      <td>5</td>\n",
       "      <td>5</td>\n",
       "      <td>4</td>\n",
       "      <td>3</td>\n",
       "      <td>4</td>\n",
       "      <td>4</td>\n",
       "      <td>5</td>\n",
       "      <td>5</td>\n",
       "      <td>25</td>\n",
       "      <td>18.0</td>\n",
       "    </tr>\n",
       "    <tr>\n",
       "      <th>1</th>\n",
       "      <td>5047</td>\n",
       "      <td>25</td>\n",
       "      <td>235</td>\n",
       "      <td>3</td>\n",
       "      <td>2</td>\n",
       "      <td>3</td>\n",
       "      <td>3</td>\n",
       "      <td>1</td>\n",
       "      <td>3</td>\n",
       "      <td>1</td>\n",
       "      <td>1</td>\n",
       "      <td>1</td>\n",
       "      <td>5</td>\n",
       "      <td>3</td>\n",
       "      <td>1</td>\n",
       "      <td>4</td>\n",
       "      <td>1</td>\n",
       "      <td>1</td>\n",
       "      <td>6.0</td>\n",
       "    </tr>\n",
       "  </tbody>\n",
       "</table>\n",
       "</div>"
      ],
      "text/plain": [
       "      id  Age  Store_distance  InStore_wifi  Open_Close_time_convenient  \\\n",
       "0  70172   13             460             3                           4   \n",
       "1   5047   25             235             3                           2   \n",
       "\n",
       "   Easy_of_online_shopping  Store_location  Toilet_cleaning  Dressing_room  \\\n",
       "0                        3               1                5              3   \n",
       "1                        3               3                1              3   \n",
       "\n",
       "   Waiting_room  Kids_entertainment  Seller_service  Showroom_  Self_Store  \\\n",
       "0             5                   5               4          3           4   \n",
       "1             1                   1               1          5           3   \n",
       "\n",
       "   Purchase_service  Store_Service  Cleanliness  Carrier_delay_in_minutes  \\\n",
       "0                 4              5            5                        25   \n",
       "1                 1              4            1                         1   \n",
       "\n",
       "   Delivery_delay_in_minutes  \n",
       "0                       18.0  \n",
       "1                        6.0  "
      ]
     },
     "execution_count": 51,
     "metadata": {},
     "output_type": "execute_result"
    }
   ],
   "source": [
    "num_attributes.head(2)"
   ]
  },
  {
   "cell_type": "markdown",
   "metadata": {},
   "source": [
    "#### Variaveis Categoricas"
   ]
  },
  {
   "cell_type": "code",
   "execution_count": 52,
   "metadata": {},
   "outputs": [
    {
     "data": {
      "text/html": [
       "<div>\n",
       "<style scoped>\n",
       "    .dataframe tbody tr th:only-of-type {\n",
       "        vertical-align: middle;\n",
       "    }\n",
       "\n",
       "    .dataframe tbody tr th {\n",
       "        vertical-align: top;\n",
       "    }\n",
       "\n",
       "    .dataframe thead th {\n",
       "        text-align: right;\n",
       "    }\n",
       "</style>\n",
       "<table border=\"1\" class=\"dataframe\">\n",
       "  <thead>\n",
       "    <tr style=\"text-align: right;\">\n",
       "      <th></th>\n",
       "      <th>Gender</th>\n",
       "      <th>Customer_Type</th>\n",
       "      <th>Type_of_Purchase</th>\n",
       "      <th>Store_size</th>\n",
       "      <th>Satisfaction</th>\n",
       "    </tr>\n",
       "  </thead>\n",
       "  <tbody>\n",
       "    <tr>\n",
       "      <th>0</th>\n",
       "      <td>Male</td>\n",
       "      <td>Loyal Customer</td>\n",
       "      <td>Personal</td>\n",
       "      <td>Small</td>\n",
       "      <td>Neutral or Dissatisfaction</td>\n",
       "    </tr>\n",
       "    <tr>\n",
       "      <th>1</th>\n",
       "      <td>Male</td>\n",
       "      <td>disloyal Customer</td>\n",
       "      <td>Gift</td>\n",
       "      <td>Large</td>\n",
       "      <td>Neutral or Dissatisfaction</td>\n",
       "    </tr>\n",
       "  </tbody>\n",
       "</table>\n",
       "</div>"
      ],
      "text/plain": [
       "  Gender      Customer_Type Type_of_Purchase Store_size  \\\n",
       "0   Male     Loyal Customer         Personal      Small   \n",
       "1   Male  disloyal Customer             Gift      Large   \n",
       "\n",
       "                 Satisfaction  \n",
       "0  Neutral or Dissatisfaction  \n",
       "1  Neutral or Dissatisfaction  "
      ]
     },
     "execution_count": 52,
     "metadata": {},
     "output_type": "execute_result"
    }
   ],
   "source": [
    "cat_attributes.head(2)"
   ]
  },
  {
   "cell_type": "markdown",
   "metadata": {},
   "source": [
    "#### 1.6.1 Numerical Attributes"
   ]
  },
  {
   "cell_type": "code",
   "execution_count": 69,
   "metadata": {},
   "outputs": [
    {
     "data": {
      "text/html": [
       "<div>\n",
       "<style scoped>\n",
       "    .dataframe tbody tr th:only-of-type {\n",
       "        vertical-align: middle;\n",
       "    }\n",
       "\n",
       "    .dataframe tbody tr th {\n",
       "        vertical-align: top;\n",
       "    }\n",
       "\n",
       "    .dataframe thead th {\n",
       "        text-align: right;\n",
       "    }\n",
       "</style>\n",
       "<table border=\"1\" class=\"dataframe\">\n",
       "  <thead>\n",
       "    <tr style=\"text-align: right;\">\n",
       "      <th></th>\n",
       "      <th>attributes</th>\n",
       "      <th>min</th>\n",
       "      <th>max</th>\n",
       "      <th>range</th>\n",
       "      <th>mean</th>\n",
       "      <th>median</th>\n",
       "      <th>std</th>\n",
       "      <th>skew</th>\n",
       "      <th>kurtosis</th>\n",
       "    </tr>\n",
       "  </thead>\n",
       "  <tbody>\n",
       "    <tr>\n",
       "      <th>0</th>\n",
       "      <td>id</td>\n",
       "      <td>1.0</td>\n",
       "      <td>129880.0</td>\n",
       "      <td>129879.0</td>\n",
       "      <td>64924.210502</td>\n",
       "      <td>64856.5</td>\n",
       "      <td>37463.631970</td>\n",
       "      <td>0.002864</td>\n",
       "      <td>-1.198440</td>\n",
       "    </tr>\n",
       "    <tr>\n",
       "      <th>1</th>\n",
       "      <td>Age</td>\n",
       "      <td>7.0</td>\n",
       "      <td>85.0</td>\n",
       "      <td>78.0</td>\n",
       "      <td>39.379706</td>\n",
       "      <td>40.0</td>\n",
       "      <td>15.114891</td>\n",
       "      <td>-0.004516</td>\n",
       "      <td>-0.719568</td>\n",
       "    </tr>\n",
       "    <tr>\n",
       "      <th>2</th>\n",
       "      <td>Store_distance</td>\n",
       "      <td>31.0</td>\n",
       "      <td>4983.0</td>\n",
       "      <td>4952.0</td>\n",
       "      <td>1189.448375</td>\n",
       "      <td>843.0</td>\n",
       "      <td>997.142482</td>\n",
       "      <td>1.109466</td>\n",
       "      <td>0.268535</td>\n",
       "    </tr>\n",
       "    <tr>\n",
       "      <th>3</th>\n",
       "      <td>InStore_wifi</td>\n",
       "      <td>0.0</td>\n",
       "      <td>5.0</td>\n",
       "      <td>5.0</td>\n",
       "      <td>2.729683</td>\n",
       "      <td>3.0</td>\n",
       "      <td>1.327823</td>\n",
       "      <td>0.040408</td>\n",
       "      <td>-0.846170</td>\n",
       "    </tr>\n",
       "    <tr>\n",
       "      <th>4</th>\n",
       "      <td>Open_Close_time_convenient</td>\n",
       "      <td>0.0</td>\n",
       "      <td>5.0</td>\n",
       "      <td>5.0</td>\n",
       "      <td>3.060296</td>\n",
       "      <td>3.0</td>\n",
       "      <td>1.525068</td>\n",
       "      <td>-0.334399</td>\n",
       "      <td>-1.037767</td>\n",
       "    </tr>\n",
       "    <tr>\n",
       "      <th>5</th>\n",
       "      <td>Easy_of_online_shopping</td>\n",
       "      <td>0.0</td>\n",
       "      <td>5.0</td>\n",
       "      <td>5.0</td>\n",
       "      <td>2.756901</td>\n",
       "      <td>3.0</td>\n",
       "      <td>1.398923</td>\n",
       "      <td>-0.018294</td>\n",
       "      <td>-0.910346</td>\n",
       "    </tr>\n",
       "    <tr>\n",
       "      <th>6</th>\n",
       "      <td>Store_location</td>\n",
       "      <td>0.0</td>\n",
       "      <td>5.0</td>\n",
       "      <td>5.0</td>\n",
       "      <td>2.976883</td>\n",
       "      <td>3.0</td>\n",
       "      <td>1.277615</td>\n",
       "      <td>-0.058889</td>\n",
       "      <td>-1.030283</td>\n",
       "    </tr>\n",
       "    <tr>\n",
       "      <th>7</th>\n",
       "      <td>Toilet_cleaning</td>\n",
       "      <td>0.0</td>\n",
       "      <td>5.0</td>\n",
       "      <td>5.0</td>\n",
       "      <td>3.202129</td>\n",
       "      <td>3.0</td>\n",
       "      <td>1.329526</td>\n",
       "      <td>-0.151279</td>\n",
       "      <td>-1.145453</td>\n",
       "    </tr>\n",
       "    <tr>\n",
       "      <th>8</th>\n",
       "      <td>Dressing_room</td>\n",
       "      <td>0.0</td>\n",
       "      <td>5.0</td>\n",
       "      <td>5.0</td>\n",
       "      <td>3.250375</td>\n",
       "      <td>3.0</td>\n",
       "      <td>1.349502</td>\n",
       "      <td>-0.453852</td>\n",
       "      <td>-0.702006</td>\n",
       "    </tr>\n",
       "    <tr>\n",
       "      <th>9</th>\n",
       "      <td>Waiting_room</td>\n",
       "      <td>0.0</td>\n",
       "      <td>5.0</td>\n",
       "      <td>5.0</td>\n",
       "      <td>3.439396</td>\n",
       "      <td>4.0</td>\n",
       "      <td>1.319081</td>\n",
       "      <td>-0.482775</td>\n",
       "      <td>-0.925702</td>\n",
       "    </tr>\n",
       "    <tr>\n",
       "      <th>10</th>\n",
       "      <td>Kids_entertainment</td>\n",
       "      <td>0.0</td>\n",
       "      <td>5.0</td>\n",
       "      <td>5.0</td>\n",
       "      <td>3.358158</td>\n",
       "      <td>4.0</td>\n",
       "      <td>1.332984</td>\n",
       "      <td>-0.365131</td>\n",
       "      <td>-1.060696</td>\n",
       "    </tr>\n",
       "    <tr>\n",
       "      <th>11</th>\n",
       "      <td>Seller_service</td>\n",
       "      <td>0.0</td>\n",
       "      <td>5.0</td>\n",
       "      <td>5.0</td>\n",
       "      <td>3.382363</td>\n",
       "      <td>4.0</td>\n",
       "      <td>1.288348</td>\n",
       "      <td>-0.420031</td>\n",
       "      <td>-0.892335</td>\n",
       "    </tr>\n",
       "    <tr>\n",
       "      <th>12</th>\n",
       "      <td>Showroom_</td>\n",
       "      <td>0.0</td>\n",
       "      <td>5.0</td>\n",
       "      <td>5.0</td>\n",
       "      <td>3.351055</td>\n",
       "      <td>4.0</td>\n",
       "      <td>1.315598</td>\n",
       "      <td>-0.350231</td>\n",
       "      <td>-0.980257</td>\n",
       "    </tr>\n",
       "    <tr>\n",
       "      <th>13</th>\n",
       "      <td>Self_Store</td>\n",
       "      <td>1.0</td>\n",
       "      <td>5.0</td>\n",
       "      <td>4.0</td>\n",
       "      <td>3.631833</td>\n",
       "      <td>4.0</td>\n",
       "      <td>1.180898</td>\n",
       "      <td>-0.677040</td>\n",
       "      <td>-0.387156</td>\n",
       "    </tr>\n",
       "    <tr>\n",
       "      <th>14</th>\n",
       "      <td>Purchase_service</td>\n",
       "      <td>0.0</td>\n",
       "      <td>5.0</td>\n",
       "      <td>5.0</td>\n",
       "      <td>3.304290</td>\n",
       "      <td>3.0</td>\n",
       "      <td>1.265390</td>\n",
       "      <td>-0.364982</td>\n",
       "      <td>-0.828877</td>\n",
       "    </tr>\n",
       "    <tr>\n",
       "      <th>15</th>\n",
       "      <td>Store_Service</td>\n",
       "      <td>0.0</td>\n",
       "      <td>5.0</td>\n",
       "      <td>5.0</td>\n",
       "      <td>3.640428</td>\n",
       "      <td>4.0</td>\n",
       "      <td>1.175657</td>\n",
       "      <td>-0.690314</td>\n",
       "      <td>-0.357509</td>\n",
       "    </tr>\n",
       "    <tr>\n",
       "      <th>16</th>\n",
       "      <td>Cleanliness</td>\n",
       "      <td>0.0</td>\n",
       "      <td>5.0</td>\n",
       "      <td>5.0</td>\n",
       "      <td>3.286351</td>\n",
       "      <td>3.0</td>\n",
       "      <td>1.312267</td>\n",
       "      <td>-0.300074</td>\n",
       "      <td>-1.012558</td>\n",
       "    </tr>\n",
       "    <tr>\n",
       "      <th>17</th>\n",
       "      <td>Carrier_delay_in_minutes</td>\n",
       "      <td>0.0</td>\n",
       "      <td>1592.0</td>\n",
       "      <td>1592.0</td>\n",
       "      <td>14.815618</td>\n",
       "      <td>0.0</td>\n",
       "      <td>38.230717</td>\n",
       "      <td>6.733980</td>\n",
       "      <td>100.267006</td>\n",
       "    </tr>\n",
       "    <tr>\n",
       "      <th>18</th>\n",
       "      <td>Delivery_delay_in_minutes</td>\n",
       "      <td>0.0</td>\n",
       "      <td>1584.0</td>\n",
       "      <td>1584.0</td>\n",
       "      <td>15.178678</td>\n",
       "      <td>NaN</td>\n",
       "      <td>38.698495</td>\n",
       "      <td>6.596637</td>\n",
       "      <td>94.537006</td>\n",
       "    </tr>\n",
       "  </tbody>\n",
       "</table>\n",
       "</div>"
      ],
      "text/plain": [
       "                    attributes   min       max     range          mean  \\\n",
       "0                           id   1.0  129880.0  129879.0  64924.210502   \n",
       "1                          Age   7.0      85.0      78.0     39.379706   \n",
       "2               Store_distance  31.0    4983.0    4952.0   1189.448375   \n",
       "3                 InStore_wifi   0.0       5.0       5.0      2.729683   \n",
       "4   Open_Close_time_convenient   0.0       5.0       5.0      3.060296   \n",
       "5      Easy_of_online_shopping   0.0       5.0       5.0      2.756901   \n",
       "6               Store_location   0.0       5.0       5.0      2.976883   \n",
       "7              Toilet_cleaning   0.0       5.0       5.0      3.202129   \n",
       "8                Dressing_room   0.0       5.0       5.0      3.250375   \n",
       "9                 Waiting_room   0.0       5.0       5.0      3.439396   \n",
       "10          Kids_entertainment   0.0       5.0       5.0      3.358158   \n",
       "11              Seller_service   0.0       5.0       5.0      3.382363   \n",
       "12                   Showroom_   0.0       5.0       5.0      3.351055   \n",
       "13                  Self_Store   1.0       5.0       4.0      3.631833   \n",
       "14            Purchase_service   0.0       5.0       5.0      3.304290   \n",
       "15               Store_Service   0.0       5.0       5.0      3.640428   \n",
       "16                 Cleanliness   0.0       5.0       5.0      3.286351   \n",
       "17    Carrier_delay_in_minutes   0.0    1592.0    1592.0     14.815618   \n",
       "18   Delivery_delay_in_minutes   0.0    1584.0    1584.0     15.178678   \n",
       "\n",
       "     median           std      skew    kurtosis  \n",
       "0   64856.5  37463.631970  0.002864   -1.198440  \n",
       "1      40.0     15.114891 -0.004516   -0.719568  \n",
       "2     843.0    997.142482  1.109466    0.268535  \n",
       "3       3.0      1.327823  0.040408   -0.846170  \n",
       "4       3.0      1.525068 -0.334399   -1.037767  \n",
       "5       3.0      1.398923 -0.018294   -0.910346  \n",
       "6       3.0      1.277615 -0.058889   -1.030283  \n",
       "7       3.0      1.329526 -0.151279   -1.145453  \n",
       "8       3.0      1.349502 -0.453852   -0.702006  \n",
       "9       4.0      1.319081 -0.482775   -0.925702  \n",
       "10      4.0      1.332984 -0.365131   -1.060696  \n",
       "11      4.0      1.288348 -0.420031   -0.892335  \n",
       "12      4.0      1.315598 -0.350231   -0.980257  \n",
       "13      4.0      1.180898 -0.677040   -0.387156  \n",
       "14      3.0      1.265390 -0.364982   -0.828877  \n",
       "15      4.0      1.175657 -0.690314   -0.357509  \n",
       "16      3.0      1.312267 -0.300074   -1.012558  \n",
       "17      0.0     38.230717  6.733980  100.267006  \n",
       "18      NaN     38.698495  6.596637   94.537006  "
      ]
     },
     "execution_count": 69,
     "metadata": {},
     "output_type": "execute_result"
    }
   ],
   "source": [
    "# Central Tendency - mean, meadina \n",
    "ct1 = pd.DataFrame( num_attributes.apply( np.mean ) ).T\n",
    "ct2 = pd.DataFrame( num_attributes.apply( np.median ) ).T\n",
    "\n",
    "# dispersion - std, min, max, range, skew, kurtosis\n",
    "d1 = pd.DataFrame( num_attributes.apply( np.std ) ).T \n",
    "d2 = pd.DataFrame( num_attributes.apply( min ) ).T \n",
    "d3 = pd.DataFrame( num_attributes.apply( max ) ).T \n",
    "d4 = pd.DataFrame( num_attributes.apply( lambda x: x.max() - x.min() ) ).T \n",
    "d5 = pd.DataFrame( num_attributes.apply( lambda x: x.skew() ) ).T \n",
    "d6 = pd.DataFrame( num_attributes.apply( lambda x: x.kurtosis() ) ).T \n",
    "\n",
    "# concatenar\n",
    "m = pd.concat( [d2, d3, d4, ct1, ct2, d1, d5, d6] ).T.reset_index()\n",
    "m.columns = ['attributes', 'min', 'max', 'range', 'mean', 'median', 'std', 'skew', 'kurtosis']\n",
    "m"
   ]
  },
  {
   "cell_type": "code",
   "execution_count": 55,
   "metadata": {},
   "outputs": [
    {
     "data": {
      "text/plain": [
       "<Axes: xlabel='Carrier_delay_in_minutes', ylabel='Density'>"
      ]
     },
     "execution_count": 55,
     "metadata": {},
     "output_type": "execute_result"
    },
    {
     "data": {
      "image/png": "[encoded data removed]",
      "text/plain": [
       "<Figure size 640x480 with 1 Axes>"
      ]
     },
     "metadata": {},
     "output_type": "display_data"
    }
   ],
   "source": [
    "sns.distplot( df1['Carrier_delay_in_minutes'], kde=True )"
   ]
  },
  {
   "cell_type": "code",
   "execution_count": 56,
   "metadata": {},
   "outputs": [
    {
     "data": {
      "text/plain": [
       "<Axes: xlabel='Delivery_delay_in_minutes', ylabel='Density'>"
      ]
     },
     "execution_count": 56,
     "metadata": {},
     "output_type": "execute_result"
    },
    {
     "data": {
      "image/png": "[encoded data removed]",
      "text/plain": [
       "<Figure size 640x480 with 1 Axes>"
      ]
     },
     "metadata": {},
     "output_type": "display_data"
    }
   ],
   "source": [
    "sns.distplot( df1['Delivery_delay_in_minutes'], kde=True )"
   ]
  },
  {
   "cell_type": "markdown",
   "metadata": {},
   "source": [
    "##### Tentando Tratar Outliers"
   ]
  },
  {
   "cell_type": "code",
   "execution_count": 259,
   "metadata": {},
   "outputs": [
    {
     "data": {
      "text/html": [
       "<div>\n",
       "<style scoped>\n",
       "    .dataframe tbody tr th:only-of-type {\n",
       "        vertical-align: middle;\n",
       "    }\n",
       "\n",
       "    .dataframe tbody tr th {\n",
       "        vertical-align: top;\n",
       "    }\n",
       "\n",
       "    .dataframe thead th {\n",
       "        text-align: right;\n",
       "    }\n",
       "</style>\n",
       "<table border=\"1\" class=\"dataframe\">\n",
       "  <thead>\n",
       "    <tr style=\"text-align: right;\">\n",
       "      <th></th>\n",
       "      <th>quantidade_clientes</th>\n",
       "    </tr>\n",
       "    <tr>\n",
       "      <th>Carrier_delay_in_minutes</th>\n",
       "      <th></th>\n",
       "    </tr>\n",
       "  </thead>\n",
       "  <tbody>\n",
       "    <tr>\n",
       "      <th>257</th>\n",
       "      <td>1</td>\n",
       "    </tr>\n",
       "    <tr>\n",
       "      <th>268</th>\n",
       "      <td>1</td>\n",
       "    </tr>\n",
       "    <tr>\n",
       "      <th>270</th>\n",
       "      <td>1</td>\n",
       "    </tr>\n",
       "    <tr>\n",
       "      <th>278</th>\n",
       "      <td>1</td>\n",
       "    </tr>\n",
       "    <tr>\n",
       "      <th>283</th>\n",
       "      <td>1</td>\n",
       "    </tr>\n",
       "    <tr>\n",
       "      <th>...</th>\n",
       "      <td>...</td>\n",
       "    </tr>\n",
       "    <tr>\n",
       "      <th>933</th>\n",
       "      <td>1</td>\n",
       "    </tr>\n",
       "    <tr>\n",
       "      <th>978</th>\n",
       "      <td>1</td>\n",
       "    </tr>\n",
       "    <tr>\n",
       "      <th>1017</th>\n",
       "      <td>1</td>\n",
       "    </tr>\n",
       "    <tr>\n",
       "      <th>1305</th>\n",
       "      <td>1</td>\n",
       "    </tr>\n",
       "    <tr>\n",
       "      <th>1592</th>\n",
       "      <td>1</td>\n",
       "    </tr>\n",
       "  </tbody>\n",
       "</table>\n",
       "<p>100 rows × 1 columns</p>\n",
       "</div>"
      ],
      "text/plain": [
       "                          quantidade_clientes\n",
       "Carrier_delay_in_minutes                     \n",
       "257                                         1\n",
       "268                                         1\n",
       "270                                         1\n",
       "278                                         1\n",
       "283                                         1\n",
       "...                                       ...\n",
       "933                                         1\n",
       "978                                         1\n",
       "1017                                        1\n",
       "1305                                        1\n",
       "1592                                        1\n",
       "\n",
       "[100 rows x 1 columns]"
      ]
     },
     "execution_count": 259,
     "metadata": {},
     "output_type": "execute_result"
    }
   ],
   "source": [
    "(df1\n",
    " .groupby('Carrier_delay_in_minutes')\n",
    " .agg(quantidade_clientes = pd.NamedAgg('id', 'count'))\n",
    " .query('quantidade_clientes == 1')\n",
    ")"
   ]
  },
  {
   "cell_type": "code",
   "execution_count": null,
   "metadata": {},
   "outputs": [],
   "source": []
  },
  {
   "cell_type": "markdown",
   "metadata": {},
   "source": [
    "## 2.0 Mapa de Hipóteses"
   ]
  },
  {
   "cell_type": "markdown",
   "metadata": {},
   "source": [
    "- Clientes que adquirem compras pessoais deveriam estar satisfeitos.\n",
    "\n",
    "===============================================================================\n",
    "\n",
    "- Clientes que tiverem entregas com tempo baixo no atraso da entrega, deveriam estar satisfeitos.\n",
    "\n",
    "- Clientes que classificam o serviço de compras acima de 4 deveriam estar satisfeitos.\n",
    "\n",
    "===========================================================================\n",
    "\n",
    "Wifi, acesso_loja (Store_Location), Toilet_cleaning, Purchase_service, Store_Service, Cleanliness, Waiting room "
   ]
  },
  {
   "cell_type": "code",
   "execution_count": 126,
   "metadata": {},
   "outputs": [],
   "source": [
    "df2 = df1.copy()"
   ]
  },
  {
   "cell_type": "code",
   "execution_count": 127,
   "metadata": {},
   "outputs": [
    {
     "data": {
      "text/plain": [
       "Index(['id', 'Gender', 'Customer_Type', 'Age', 'Type_of_Purchase',\n",
       "       'Store_size', 'Store_distance', 'InStore_wifi',\n",
       "       'Open_Close_time_convenient', 'Easy_of_online_shopping',\n",
       "       'Store_location', 'Toilet_cleaning', 'Dressing_room', 'Waiting_room',\n",
       "       'Kids_entertainment', 'Seller_service', 'Showroom_', 'Self_Store',\n",
       "       'Purchase_service', 'Store_Service', 'Cleanliness',\n",
       "       'Carrier_delay_in_minutes', 'Delivery_delay_in_minutes', 'Satisfaction',\n",
       "       'Satisfaction_Dummy'],\n",
       "      dtype='object')"
      ]
     },
     "execution_count": 127,
     "metadata": {},
     "output_type": "execute_result"
    }
   ],
   "source": [
    "df2.columns"
   ]
  },
  {
   "cell_type": "markdown",
   "metadata": {},
   "source": [
    "### 2.1 - Clientes que classificam o espaço kids acima de 4 deveriam estar satisfeitos."
   ]
  },
  {
   "cell_type": "code",
   "execution_count": 170,
   "metadata": {},
   "outputs": [
    {
     "data": {
      "text/plain": [
       "<Axes: xlabel='Kids_entertainment', ylabel='id'>"
      ]
     },
     "execution_count": 170,
     "metadata": {},
     "output_type": "execute_result"
    },
    {
     "data": {
      "image/png": "[encoded data removed]",
      "text/plain": [
       "<Figure size 640x480 with 1 Axes>"
      ]
     },
     "metadata": {},
     "output_type": "display_data"
    }
   ],
   "source": [
    "espaco_kids = (df2[['id', 'Kids_entertainment', 'Satisfaction']]\n",
    "               .groupby(['Kids_entertainment', 'Satisfaction'])\n",
    "               .count()\n",
    "               )\n",
    "\n",
    "sns.barplot(x= 'Kids_entertainment', y='id', data=espaco_kids.reset_index(), hue='Satisfaction')"
   ]
  },
  {
   "cell_type": "markdown",
   "metadata": {},
   "source": [
    "### 2.2 - Clientes que classificam a facilidade da compra online acima de 4 deveriam estar satisfeitos.\n",
    "\n",
    "- Aparentemente a facilidade de compra online é diretamente proporcional a satisfação dos clientes"
   ]
  },
  {
   "cell_type": "code",
   "execution_count": 165,
   "metadata": {},
   "outputs": [
    {
     "data": {
      "text/plain": [
       "<Axes: xlabel='Easy_of_online_shopping', ylabel='quantidade_clientes'>"
      ]
     },
     "execution_count": 165,
     "metadata": {},
     "output_type": "execute_result"
    },
    {
     "data": {
      "image/png": "[encoded data removed]",
      "text/plain": [
       "<Figure size 640x480 with 1 Axes>"
      ]
     },
     "metadata": {},
     "output_type": "display_data"
    }
   ],
   "source": [
    "compra_online = df2.groupby(['Easy_of_online_shopping', 'Satisfaction']).agg(\n",
    "                    quantidade_clientes = pd.NamedAgg('id', 'count')\n",
    "                    )#.reset_index()\n",
    "\n",
    "compra_online['percentage_clients'] = (compra_online['quantidade_clientes'] / df2.shape[0]) * 100 \n",
    "\n",
    "sns.barplot(x= 'Easy_of_online_shopping', y='quantidade_clientes', data=compra_online.reset_index(), hue='Satisfaction')"
   ]
  },
  {
   "cell_type": "markdown",
   "metadata": {},
   "source": [
    "### 2.3 Clientes que estão mais próximos da loja deveriam estar satisfeitos\n",
    "\n",
    "- Quanto mais próximo os clientes estiverem da loja mais clientes terão"
   ]
  },
  {
   "cell_type": "code",
   "execution_count": 186,
   "metadata": {},
   "outputs": [
    {
     "data": {
      "text/plain": [
       "<Axes: xlabel='Distancia_Escala', ylabel='quantidade_clientes'>"
      ]
     },
     "execution_count": 186,
     "metadata": {},
     "output_type": "execute_result"
    },
    {
     "data": {
      "image/png": "[encoded data removed]",
      "text/plain": [
       "<Figure size 1200x600 with 1 Axes>"
      ]
     },
     "metadata": {},
     "output_type": "display_data"
    }
   ],
   "source": [
    "distancia_loja = df2[['id', 'Store_distance', 'Satisfaction']]\n",
    "distancia_loja['Distancia_Escala'] = distancia_loja['Store_distance'].apply(lambda x: \"Escala_01\" if x <= 500 else \n",
    "                                                                                      \"Escala_02\" if (x > 500) & (x <= 1000) else \n",
    "                                                                                      \"Escala_03\" if (x > 1000) & (x <= 1500) else \n",
    "                                                                                      \"Escala_04\" if (x > 1500) & (x <= 2000) else \n",
    "                                                                                      \"Escala_05\" if (x > 2000) & (x <= 2500) else \n",
    "                                                                                      \"Escala_06\" if (x > 2500) & (x <= 3000) else \n",
    "                                                                                      \"Escala_07\" if (x > 3000) & (x <= 3500) else \n",
    "                                                                                      \"Escala_08\" if (x > 4000) & (x <= 4500) else \n",
    "                                                                                      \"Escala_09\" if (x > 4500) & (x <= 5000) else \n",
    "                                                                                      \"Escala_10\")\n",
    "\n",
    "distancia_loja = distancia_loja.groupby(['Distancia_Escala', 'Satisfaction']).agg(\n",
    "                                                                                quantidade_clientes = pd.NamedAgg('id', 'count')\n",
    "                                                                                )\n",
    "\n",
    "fig, ax = pyplot.subplots(figsize=(12, 6))\n",
    "sns.barplot(x= 'Distancia_Escala', y='quantidade_clientes', data=distancia_loja.reset_index(), hue='Satisfaction', ax=ax)"
   ]
  },
  {
   "cell_type": "code",
   "execution_count": 258,
   "metadata": {},
   "outputs": [
    {
     "data": {
      "text/html": [
       "<div>\n",
       "<style scoped>\n",
       "    .dataframe tbody tr th:only-of-type {\n",
       "        vertical-align: middle;\n",
       "    }\n",
       "\n",
       "    .dataframe tbody tr th {\n",
       "        vertical-align: top;\n",
       "    }\n",
       "\n",
       "    .dataframe thead th {\n",
       "        text-align: right;\n",
       "    }\n",
       "</style>\n",
       "<table border=\"1\" class=\"dataframe\">\n",
       "  <thead>\n",
       "    <tr style=\"text-align: right;\">\n",
       "      <th></th>\n",
       "      <th></th>\n",
       "      <th>quantidade_clientes</th>\n",
       "    </tr>\n",
       "    <tr>\n",
       "      <th>Distancia_Escala</th>\n",
       "      <th>Satisfaction</th>\n",
       "      <th></th>\n",
       "    </tr>\n",
       "  </thead>\n",
       "  <tbody>\n",
       "    <tr>\n",
       "      <th rowspan=\"2\" valign=\"top\">Escala_01</th>\n",
       "      <th>Neutral or Dissatisfaction</th>\n",
       "      <td>21555</td>\n",
       "    </tr>\n",
       "    <tr>\n",
       "      <th>Satisfied</th>\n",
       "      <td>10766</td>\n",
       "    </tr>\n",
       "    <tr>\n",
       "      <th rowspan=\"2\" valign=\"top\">Escala_02</th>\n",
       "      <th>Neutral or Dissatisfaction</th>\n",
       "      <td>18718</td>\n",
       "    </tr>\n",
       "    <tr>\n",
       "      <th>Satisfied</th>\n",
       "      <td>9026</td>\n",
       "    </tr>\n",
       "    <tr>\n",
       "      <th rowspan=\"2\" valign=\"top\">Escala_03</th>\n",
       "      <th>Neutral or Dissatisfaction</th>\n",
       "      <td>7876</td>\n",
       "    </tr>\n",
       "    <tr>\n",
       "      <th>Satisfied</th>\n",
       "      <td>4492</td>\n",
       "    </tr>\n",
       "    <tr>\n",
       "      <th rowspan=\"2\" valign=\"top\">Escala_04</th>\n",
       "      <th>Neutral or Dissatisfaction</th>\n",
       "      <td>4222</td>\n",
       "    </tr>\n",
       "    <tr>\n",
       "      <th>Satisfied</th>\n",
       "      <td>5836</td>\n",
       "    </tr>\n",
       "    <tr>\n",
       "      <th rowspan=\"2\" valign=\"top\">Escala_05</th>\n",
       "      <th>Neutral or Dissatisfaction</th>\n",
       "      <td>2832</td>\n",
       "    </tr>\n",
       "    <tr>\n",
       "      <th>Satisfied</th>\n",
       "      <td>4752</td>\n",
       "    </tr>\n",
       "    <tr>\n",
       "      <th rowspan=\"2\" valign=\"top\">Escala_06</th>\n",
       "      <th>Neutral or Dissatisfaction</th>\n",
       "      <td>1809</td>\n",
       "    </tr>\n",
       "    <tr>\n",
       "      <th>Satisfied</th>\n",
       "      <td>3755</td>\n",
       "    </tr>\n",
       "    <tr>\n",
       "      <th rowspan=\"2\" valign=\"top\">Escala_07</th>\n",
       "      <th>Neutral or Dissatisfaction</th>\n",
       "      <td>929</td>\n",
       "    </tr>\n",
       "    <tr>\n",
       "      <th>Satisfied</th>\n",
       "      <td>3130</td>\n",
       "    </tr>\n",
       "    <tr>\n",
       "      <th rowspan=\"2\" valign=\"top\">Escala_08</th>\n",
       "      <th>Neutral or Dissatisfaction</th>\n",
       "      <td>7</td>\n",
       "    </tr>\n",
       "    <tr>\n",
       "      <th>Satisfied</th>\n",
       "      <td>11</td>\n",
       "    </tr>\n",
       "    <tr>\n",
       "      <th rowspan=\"2\" valign=\"top\">Escala_09</th>\n",
       "      <th>Neutral or Dissatisfaction</th>\n",
       "      <td>19</td>\n",
       "    </tr>\n",
       "    <tr>\n",
       "      <th>Satisfied</th>\n",
       "      <td>21</td>\n",
       "    </tr>\n",
       "    <tr>\n",
       "      <th rowspan=\"2\" valign=\"top\">Escala_10</th>\n",
       "      <th>Neutral or Dissatisfaction</th>\n",
       "      <td>912</td>\n",
       "    </tr>\n",
       "    <tr>\n",
       "      <th>Satisfied</th>\n",
       "      <td>3236</td>\n",
       "    </tr>\n",
       "  </tbody>\n",
       "</table>\n",
       "</div>"
      ],
      "text/plain": [
       "                                             quantidade_clientes\n",
       "Distancia_Escala Satisfaction                                   \n",
       "Escala_01        Neutral or Dissatisfaction                21555\n",
       "                 Satisfied                                 10766\n",
       "Escala_02        Neutral or Dissatisfaction                18718\n",
       "                 Satisfied                                  9026\n",
       "Escala_03        Neutral or Dissatisfaction                 7876\n",
       "                 Satisfied                                  4492\n",
       "Escala_04        Neutral or Dissatisfaction                 4222\n",
       "                 Satisfied                                  5836\n",
       "Escala_05        Neutral or Dissatisfaction                 2832\n",
       "                 Satisfied                                  4752\n",
       "Escala_06        Neutral or Dissatisfaction                 1809\n",
       "                 Satisfied                                  3755\n",
       "Escala_07        Neutral or Dissatisfaction                  929\n",
       "                 Satisfied                                  3130\n",
       "Escala_08        Neutral or Dissatisfaction                    7\n",
       "                 Satisfied                                    11\n",
       "Escala_09        Neutral or Dissatisfaction                   19\n",
       "                 Satisfied                                    21\n",
       "Escala_10        Neutral or Dissatisfaction                  912\n",
       "                 Satisfied                                  3236"
      ]
     },
     "execution_count": 258,
     "metadata": {},
     "output_type": "execute_result"
    }
   ],
   "source": [
    "distancia_loja"
   ]
  },
  {
   "cell_type": "markdown",
   "metadata": {},
   "source": [
    "### 2.4 Clientes avaliaram bem a Dressing_Room estão mais satisfeitos"
   ]
  },
  {
   "cell_type": "code",
   "execution_count": 212,
   "metadata": {},
   "outputs": [
    {
     "data": {
      "text/plain": [
       "<Axes: xlabel='Dressing_room', ylabel='quantidade_clientes'>"
      ]
     },
     "execution_count": 212,
     "metadata": {},
     "output_type": "execute_result"
    },
    {
     "data": {
      "image/png": "[encoded data removed]",
      "text/plain": [
       "<Figure size 640x480 with 1 Axes>"
      ]
     },
     "metadata": {},
     "output_type": "display_data"
    }
   ],
   "source": [
    "vestuario = (df2[['id', 'Dressing_room', 'Satisfaction']]\n",
    "             .groupby(['Dressing_room', 'Satisfaction']).agg(\n",
    "                 quantidade_clientes = pd.NamedAgg('id', 'count')\n",
    "                 )\n",
    "             .reset_index()\n",
    "             )\n",
    "\n",
    "sns.barplot(x='Dressing_room', y='quantidade_clientes', data=vestuario, hue='Satisfaction')"
   ]
  },
  {
   "cell_type": "markdown",
   "metadata": {},
   "source": [
    "### 2.5 Clientes que são do tipo Loyal Customer deveriam estar satisfeitos"
   ]
  },
  {
   "cell_type": "code",
   "execution_count": 210,
   "metadata": {},
   "outputs": [
    {
     "data": {
      "text/plain": [
       "<Axes: xlabel='Customer_Type', ylabel='percentage_clients'>"
      ]
     },
     "execution_count": 210,
     "metadata": {},
     "output_type": "execute_result"
    },
    {
     "data": {
      "image/png": "[encoded data removed]",
      "text/plain": [
       "<Figure size 640x480 with 1 Axes>"
      ]
     },
     "metadata": {},
     "output_type": "display_data"
    }
   ],
   "source": [
    "df_plot = df2[['id', 'Satisfaction', 'Customer_Type']].groupby(['Customer_Type', 'Satisfaction']).agg(\n",
    "                                                      quantidade_clientes = pd.NamedAgg('id', 'count')\n",
    "                                                      ).reset_index()\n",
    "\n",
    "df_plot['percentage_clients'] = (df_plot['quantidade_clientes'] / df2.shape[0]) * 100 \n",
    "\n",
    "sns.barplot(x='Customer_Type', y='percentage_clients', data=df_plot, hue='Satisfaction')"
   ]
  },
  {
   "cell_type": "markdown",
   "metadata": {},
   "source": [
    "### 2.6 Clientes que classificam a o tempo de abertura e fechamento da loja acima de 4 deveriam estar satisfeitos\n",
    "\n",
    "- Falso"
   ]
  },
  {
   "cell_type": "code",
   "execution_count": 215,
   "metadata": {},
   "outputs": [
    {
     "data": {
      "text/plain": [
       "<Axes: xlabel='Open_Close_time_convenient', ylabel='id'>"
      ]
     },
     "execution_count": 215,
     "metadata": {},
     "output_type": "execute_result"
    },
    {
     "data": {
      "image/png": "[encoded data removed]",
      "text/plain": [
       "<Figure size 640x480 with 1 Axes>"
      ]
     },
     "metadata": {},
     "output_type": "display_data"
    }
   ],
   "source": [
    "abertura_loja = (df2[['id', 'Open_Close_time_convenient', 'Satisfaction']]\n",
    "                 .groupby(['Open_Close_time_convenient', 'Satisfaction'])\n",
    "                 .count()\n",
    "               )\n",
    "\n",
    "sns.barplot(x= 'Open_Close_time_convenient', y='id', data=abertura_loja.reset_index(), hue='Satisfaction')"
   ]
  },
  {
   "cell_type": "code",
   "execution_count": 232,
   "metadata": {},
   "outputs": [
    {
     "data": {
      "text/plain": [
       "<Axes: xlabel='Grupos', ylabel='Percentage_clients'>"
      ]
     },
     "execution_count": 232,
     "metadata": {},
     "output_type": "execute_result"
    },
    {
     "data": {
      "image/png": "[encoded data removed]",
      "text/plain": [
       "<Figure size 640x480 with 1 Axes>"
      ]
     },
     "metadata": {},
     "output_type": "display_data"
    }
   ],
   "source": [
    "df_teste = df2[['id', 'Open_Close_time_convenient', 'Satisfaction']]\n",
    "\n",
    "df_teste['Grupos'] = df_teste['Open_Close_time_convenient'].apply(lambda x: 'Grupo_01' if x in (0, 1, 2, 3) else 'Grupo_02')\n",
    "\n",
    "abertura_loja = (df_teste[['id', 'Grupos', 'Satisfaction']]\n",
    "                 .groupby(['Grupos', 'Satisfaction'])\n",
    "                 .count()\n",
    "                 .reset_index()\n",
    "               )\n",
    "\n",
    "abertura_loja['Percentage_clients'] = (abertura_loja['id'] / df2.shape[0]) * 100 \n",
    "\n",
    "sns.barplot(x= 'Grupos', y='Percentage_clients', data=abertura_loja.reset_index(), hue='Satisfaction')"
   ]
  },
  {
   "cell_type": "markdown",
   "metadata": {},
   "source": [
    "### 2.7 Clientes que classificam a limpeza da loja acima de 4 deveriam estar satisfeitos."
   ]
  },
  {
   "cell_type": "code",
   "execution_count": 233,
   "metadata": {},
   "outputs": [
    {
     "data": {
      "text/plain": [
       "<Axes: xlabel='Cleanliness', ylabel='id'>"
      ]
     },
     "execution_count": 233,
     "metadata": {},
     "output_type": "execute_result"
    },
    {
     "data": {
      "image/png": "[encoded data removed]",
      "text/plain": [
       "<Figure size 640x480 with 1 Axes>"
      ]
     },
     "metadata": {},
     "output_type": "display_data"
    }
   ],
   "source": [
    "limpeza_loja = (df2[['id', 'Cleanliness', 'Satisfaction']]\n",
    "               .groupby(['Cleanliness', 'Satisfaction'])\n",
    "               .count()\n",
    "               )\n",
    "\n",
    "sns.barplot(x='Cleanliness', y='id', data=limpeza_loja.reset_index(), hue='Satisfaction')"
   ]
  },
  {
   "cell_type": "markdown",
   "metadata": {},
   "source": [
    "## 3.0 "
   ]
  }
 ],
 "metadata": {
  "kernelspec": {
   "display_name": "base",
   "language": "python",
   "name": "python3"
  },
  "language_info": {
   "codemirror_mode": {
    "name": "ipython",
    "version": 3
   },
   "file_extension": ".py",
   "mimetype": "text/x-python",
   "name": "python",
   "nbconvert_exporter": "python",
   "pygments_lexer": "ipython3",
   "version": "3.10.9"
  },
  "orig_nbformat": 4
 },
 "nbformat": 4,
 "nbformat_minor": 2
}
