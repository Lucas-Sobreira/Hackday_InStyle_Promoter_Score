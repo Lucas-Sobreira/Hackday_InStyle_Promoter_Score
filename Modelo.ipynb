{
 "cells": [
  {
   "cell_type": "markdown",
   "id": "8ba1e0d7",
   "metadata": {},
   "source": [
    "# 5CIENCE_V1"
   ]
  },
  {
   "cell_type": "markdown",
   "id": "ce96817c",
   "metadata": {},
   "source": [
    "## 0 - IMPORTS AND FUNCTIONS"
   ]
  },
  {
   "cell_type": "code",
   "execution_count": 1,
   "id": "179b485c",
   "metadata": {
    "ExecuteTime": {
     "end_time": "2023-07-15T19:16:32.992856Z",
     "start_time": "2023-07-15T19:16:31.749776Z"
    }
   },
   "outputs": [],
   "source": [
    "import warnings\n",
    "import inflection\n",
    "import pandas                                       as pd\n",
    "import lightgbm                                     as lgbm\n",
    "from sklearn                 import neighbors       as nh\n",
    "from sklearn                 import model_selection as ms\n",
    "from xgboost                 import XGBClassifier\n",
    "from sklearn.metrics         import precision_score \n",
    "\n",
    "from sklearn                 import preprocessing   as pp\n",
    "mms_age = pp.MinMaxScaler()\n",
    "\n",
    "from sklearn.preprocessing   import OrdinalEncoder\n",
    "oenc = OrdinalEncoder()\n",
    "\n",
    "import numpy as np\n",
    "import seaborn as sns\n",
    "from matplotlib import pyplot\n",
    "\n",
    "warnings.filterwarnings( 'ignore' )"
   ]
  },
  {
   "cell_type": "markdown",
   "id": "05be3a58",
   "metadata": {},
   "source": [
    "### 0.1 - FUNCOES DE AUXILIO"
   ]
  },
  {
   "cell_type": "code",
   "execution_count": 79,
   "id": "b12e9959",
   "metadata": {
    "ExecuteTime": {
     "end_time": "2023-07-15T19:16:33.037884Z",
     "start_time": "2023-07-15T19:16:32.994833Z"
    }
   },
   "outputs": [],
   "source": [
    "def ml_performance( model_name, precision_atK):\n",
    "    return pd.DataFrame( {'Model Name': model_name,\n",
    "                          'Precision_at_K': precision_atK}, index=[0])"
   ]
  },
  {
   "cell_type": "markdown",
   "id": "82380eb7",
   "metadata": {
    "cell_style": "center"
   },
   "source": [
    "## 1 - DATA LOAD & DATA DESCRIPTIVE"
   ]
  },
  {
   "cell_type": "code",
   "execution_count": 91,
   "id": "c520d31c",
   "metadata": {
    "ExecuteTime": {
     "end_time": "2023-07-15T19:16:42.679311Z",
     "start_time": "2023-07-15T19:16:42.494666Z"
    },
    "cell_style": "center"
   },
   "outputs": [],
   "source": [
    "# All Data - Windows\n",
    "# df_raw = pd.read_csv('C:/Users/perot/Documents/ds_repos/hackday_5/Hackday_InStyle_Promoter_Score/data/train.csv')\n",
    "\n",
    "path = \"./Data/\"\n",
    "df_raw = pd.read_csv(path + 'train.csv')"
   ]
  },
  {
   "cell_type": "code",
   "execution_count": 92,
   "id": "4b125b06",
   "metadata": {
    "ExecuteTime": {
     "end_time": "2023-07-15T19:16:42.734933Z",
     "start_time": "2023-07-15T19:16:42.712824Z"
    }
   },
   "outputs": [
    {
     "data": {
      "text/html": [
       "<div>\n",
       "<style scoped>\n",
       "    .dataframe tbody tr th:only-of-type {\n",
       "        vertical-align: middle;\n",
       "    }\n",
       "\n",
       "    .dataframe tbody tr th {\n",
       "        vertical-align: top;\n",
       "    }\n",
       "\n",
       "    .dataframe thead th {\n",
       "        text-align: right;\n",
       "    }\n",
       "</style>\n",
       "<table border=\"1\" class=\"dataframe\">\n",
       "  <thead>\n",
       "    <tr style=\"text-align: right;\">\n",
       "      <th></th>\n",
       "      <th>id</th>\n",
       "      <th>Gender</th>\n",
       "      <th>Customer Type</th>\n",
       "      <th>Age</th>\n",
       "      <th>Type of Purchase</th>\n",
       "      <th>Store size</th>\n",
       "      <th>Store distance</th>\n",
       "      <th>InStore wifi</th>\n",
       "      <th>Open/Close time convenient</th>\n",
       "      <th>Easy of online shopping</th>\n",
       "      <th>...</th>\n",
       "      <th>Kids entertainment</th>\n",
       "      <th>Seller service</th>\n",
       "      <th>Showroom</th>\n",
       "      <th>Self-Store</th>\n",
       "      <th>Purchase service</th>\n",
       "      <th>Store Service</th>\n",
       "      <th>Cleanliness</th>\n",
       "      <th>Carrier delay in minutes</th>\n",
       "      <th>Delivery delay in minutes</th>\n",
       "      <th>Satisfaction</th>\n",
       "    </tr>\n",
       "  </thead>\n",
       "  <tbody>\n",
       "    <tr>\n",
       "      <th>0</th>\n",
       "      <td>70172</td>\n",
       "      <td>Male</td>\n",
       "      <td>Loyal Customer</td>\n",
       "      <td>13</td>\n",
       "      <td>Personal</td>\n",
       "      <td>Small</td>\n",
       "      <td>460</td>\n",
       "      <td>3</td>\n",
       "      <td>4</td>\n",
       "      <td>3</td>\n",
       "      <td>...</td>\n",
       "      <td>5</td>\n",
       "      <td>4</td>\n",
       "      <td>3</td>\n",
       "      <td>4</td>\n",
       "      <td>4</td>\n",
       "      <td>5</td>\n",
       "      <td>5</td>\n",
       "      <td>25</td>\n",
       "      <td>18.0</td>\n",
       "      <td>Neutral or Dissatisfaction</td>\n",
       "    </tr>\n",
       "    <tr>\n",
       "      <th>1</th>\n",
       "      <td>5047</td>\n",
       "      <td>Male</td>\n",
       "      <td>disloyal Customer</td>\n",
       "      <td>25</td>\n",
       "      <td>Gift</td>\n",
       "      <td>Large</td>\n",
       "      <td>235</td>\n",
       "      <td>3</td>\n",
       "      <td>2</td>\n",
       "      <td>3</td>\n",
       "      <td>...</td>\n",
       "      <td>1</td>\n",
       "      <td>1</td>\n",
       "      <td>5</td>\n",
       "      <td>3</td>\n",
       "      <td>1</td>\n",
       "      <td>4</td>\n",
       "      <td>1</td>\n",
       "      <td>1</td>\n",
       "      <td>6.0</td>\n",
       "      <td>Neutral or Dissatisfaction</td>\n",
       "    </tr>\n",
       "    <tr>\n",
       "      <th>2</th>\n",
       "      <td>110028</td>\n",
       "      <td>Female</td>\n",
       "      <td>Loyal Customer</td>\n",
       "      <td>26</td>\n",
       "      <td>Gift</td>\n",
       "      <td>Large</td>\n",
       "      <td>1142</td>\n",
       "      <td>2</td>\n",
       "      <td>2</td>\n",
       "      <td>2</td>\n",
       "      <td>...</td>\n",
       "      <td>5</td>\n",
       "      <td>4</td>\n",
       "      <td>3</td>\n",
       "      <td>4</td>\n",
       "      <td>4</td>\n",
       "      <td>4</td>\n",
       "      <td>5</td>\n",
       "      <td>0</td>\n",
       "      <td>0.0</td>\n",
       "      <td>Satisfied</td>\n",
       "    </tr>\n",
       "    <tr>\n",
       "      <th>3</th>\n",
       "      <td>24026</td>\n",
       "      <td>Female</td>\n",
       "      <td>Loyal Customer</td>\n",
       "      <td>25</td>\n",
       "      <td>Gift</td>\n",
       "      <td>Large</td>\n",
       "      <td>562</td>\n",
       "      <td>2</td>\n",
       "      <td>5</td>\n",
       "      <td>5</td>\n",
       "      <td>...</td>\n",
       "      <td>2</td>\n",
       "      <td>2</td>\n",
       "      <td>5</td>\n",
       "      <td>3</td>\n",
       "      <td>1</td>\n",
       "      <td>4</td>\n",
       "      <td>2</td>\n",
       "      <td>11</td>\n",
       "      <td>9.0</td>\n",
       "      <td>Neutral or Dissatisfaction</td>\n",
       "    </tr>\n",
       "    <tr>\n",
       "      <th>4</th>\n",
       "      <td>119299</td>\n",
       "      <td>Male</td>\n",
       "      <td>Loyal Customer</td>\n",
       "      <td>61</td>\n",
       "      <td>Gift</td>\n",
       "      <td>Large</td>\n",
       "      <td>214</td>\n",
       "      <td>3</td>\n",
       "      <td>3</td>\n",
       "      <td>3</td>\n",
       "      <td>...</td>\n",
       "      <td>3</td>\n",
       "      <td>3</td>\n",
       "      <td>4</td>\n",
       "      <td>4</td>\n",
       "      <td>3</td>\n",
       "      <td>3</td>\n",
       "      <td>3</td>\n",
       "      <td>0</td>\n",
       "      <td>0.0</td>\n",
       "      <td>Satisfied</td>\n",
       "    </tr>\n",
       "  </tbody>\n",
       "</table>\n",
       "<p>5 rows × 24 columns</p>\n",
       "</div>"
      ],
      "text/plain": [
       "       id  Gender      Customer Type  Age Type of Purchase Store size  \\\n",
       "0   70172    Male     Loyal Customer   13         Personal      Small   \n",
       "1    5047    Male  disloyal Customer   25             Gift      Large   \n",
       "2  110028  Female     Loyal Customer   26             Gift      Large   \n",
       "3   24026  Female     Loyal Customer   25             Gift      Large   \n",
       "4  119299    Male     Loyal Customer   61             Gift      Large   \n",
       "\n",
       "   Store distance  InStore wifi  Open/Close time convenient  \\\n",
       "0             460             3                           4   \n",
       "1             235             3                           2   \n",
       "2            1142             2                           2   \n",
       "3             562             2                           5   \n",
       "4             214             3                           3   \n",
       "\n",
       "   Easy of online shopping  ...  Kids entertainment  Seller service  \\\n",
       "0                        3  ...                   5               4   \n",
       "1                        3  ...                   1               1   \n",
       "2                        2  ...                   5               4   \n",
       "3                        5  ...                   2               2   \n",
       "4                        3  ...                   3               3   \n",
       "\n",
       "   Showroom   Self-Store  Purchase service  Store Service  Cleanliness  \\\n",
       "0          3           4                 4              5            5   \n",
       "1          5           3                 1              4            1   \n",
       "2          3           4                 4              4            5   \n",
       "3          5           3                 1              4            2   \n",
       "4          4           4                 3              3            3   \n",
       "\n",
       "   Carrier delay in minutes  Delivery delay in minutes  \\\n",
       "0                        25                       18.0   \n",
       "1                         1                        6.0   \n",
       "2                         0                        0.0   \n",
       "3                        11                        9.0   \n",
       "4                         0                        0.0   \n",
       "\n",
       "                 Satisfaction  \n",
       "0  Neutral or Dissatisfaction  \n",
       "1  Neutral or Dissatisfaction  \n",
       "2                   Satisfied  \n",
       "3  Neutral or Dissatisfaction  \n",
       "4                   Satisfied  \n",
       "\n",
       "[5 rows x 24 columns]"
      ]
     },
     "execution_count": 92,
     "metadata": {},
     "output_type": "execute_result"
    }
   ],
   "source": [
    "df_raw.head()"
   ]
  },
  {
   "cell_type": "markdown",
   "id": "3495e100",
   "metadata": {},
   "source": [
    "### 1.1 - SPLIT DATASET INTO TRAINING, TEST AND VALIDATION"
   ]
  },
  {
   "cell_type": "code",
   "execution_count": 93,
   "id": "d5d15957",
   "metadata": {
    "ExecuteTime": {
     "end_time": "2023-07-15T19:16:46.415434Z",
     "start_time": "2023-07-15T19:16:46.409748Z"
    }
   },
   "outputs": [],
   "source": [
    "## Renomeando as colunas, removendo letras maiusculas e substituindo espacos por _\n",
    "cols_old = ['id', 'Gender', 'Customer Type', 'Age', 'Type of Purchase','Store size', 'Store distance', 'InStore wifi',\n",
    "            'Open/Close time convenient', 'Easy of online shopping', 'Store location', 'Toilet cleaning', 'Dressing room', \n",
    "            'Waiting room','Kids entertainment', 'Seller service', 'Showroom ', 'Self-Store', 'Purchase service', \n",
    "            'Store Service', 'Cleanliness', 'Carrier delay in minutes', 'Delivery delay in minutes', 'Satisfaction']\n",
    "\n",
    "snakecase = lambda x: inflection.underscore(x.replace(' ', '_'))\n",
    "cols_new = list( map( snakecase, cols_old ) )\n",
    "\n",
    "df_raw.columns = cols_new"
   ]
  },
  {
   "cell_type": "code",
   "execution_count": 94,
   "id": "4f005130",
   "metadata": {},
   "outputs": [],
   "source": [
    "# Filtrando Outliers\n",
    "df_raw_log = df_raw.query('carrier_delay_in_minutes < 257') # linhas excluidas 398"
   ]
  },
  {
   "cell_type": "code",
   "execution_count": null,
   "id": "e6fc3fe6",
   "metadata": {
    "ExecuteTime": {
     "end_time": "2023-07-15T19:16:48.974313Z",
     "start_time": "2023-07-15T19:16:48.932226Z"
    }
   },
   "outputs": [],
   "source": [
    "# Dividindo o dataset em treino e validacao 80% / 20%\n",
    "X = df_raw.drop( 'satisfaction', axis=1 )\n",
    "y = df_raw['satisfaction'].copy()\n",
    "x_train, x_valid, y_train, y_valid = ms.train_test_split( X, y, test_size=0.2 )\n",
    "\n",
    "print(f\" x_train: {x_train.shape}\\n y_train: {y_train.shape}\\n x_valid: {x_valid.shape}\\n y_valid: {y_valid.shape}\\n\")"
   ]
  },
  {
   "cell_type": "code",
   "execution_count": 95,
   "id": "578bb6f9",
   "metadata": {},
   "outputs": [
    {
     "name": "stdout",
     "output_type": "stream",
     "text": [
      "x_train_log: (82804, 23)\n",
      " y_train_log: (82804,)\n",
      " x_valid_log: (20701, 23)\n",
      " y_valid_log: (20701,)\n",
      "\n"
     ]
    }
   ],
   "source": [
    "# Dividindo o dataset em treino e validacao 80% / 20%\n",
    "X = df_raw_log.drop( 'satisfaction', axis=1 )\n",
    "y = df_raw_log['satisfaction'].copy()\n",
    "x_train_log, x_valid_log, y_train_log, y_valid_log = ms.train_test_split( X, y, test_size=0.2 )\n",
    "\n",
    "print(f\"x_train_log: {x_train_log.shape}\\n y_train_log: {y_train_log.shape}\\n x_valid_log: {x_valid_log.shape}\\n y_valid_log: {y_valid_log.shape}\\n\")"
   ]
  },
  {
   "cell_type": "markdown",
   "id": "8a2a7dd3",
   "metadata": {},
   "source": [
    "## 1 - FEATURE ENGINEERING"
   ]
  },
  {
   "cell_type": "markdown",
   "id": "b3f433c7",
   "metadata": {},
   "source": [
    "### 1.0 Com os Outliers"
   ]
  },
  {
   "cell_type": "code",
   "execution_count": null,
   "id": "3d8483d2",
   "metadata": {
    "ExecuteTime": {
     "end_time": "2023-07-15T19:16:51.048564Z",
     "start_time": "2023-07-15T19:16:51.042082Z"
    }
   },
   "outputs": [],
   "source": [
    "# Preenchendo dados nulos\n",
    "x_train['delivery_delay_in_minutes'] = x_train['delivery_delay_in_minutes'].fillna(0)\n",
    "x_valid['delivery_delay_in_minutes'] = x_valid['delivery_delay_in_minutes'].fillna(0)"
   ]
  },
  {
   "cell_type": "code",
   "execution_count": null,
   "id": "3d5ca35b",
   "metadata": {
    "ExecuteTime": {
     "end_time": "2023-07-15T19:16:54.061312Z",
     "start_time": "2023-07-15T19:16:53.953301Z"
    }
   },
   "outputs": [],
   "source": [
    "# # Ajuste coluna gender para 1 mulher e 0 homem\n",
    "# x_train['gender'] = x_train['gender'].apply(lambda x: 1 if(x =='Female') else 0)\n",
    "\n",
    "# Gender Percentage (Porcentagem de homens e mulheres)\n",
    "fe_gender = x_train.groupby('gender').size() / len(x_train)\n",
    "x_train['gender'] = x_train['gender'].map( fe_gender )\n",
    "\n",
    "# # Ajuste coluna customer_type para 1 loyal e 0 disloyal\n",
    "# x_train['customer_type'] = x_train['customer_type'].apply(lambda x: 1 if(x =='Loyal Customer') else 0)\n",
    "\n",
    "# customer_type - Frequency Encoding / Target Encoding / Weighted Targed Encoding\n",
    "fe_customer_type = x_train.groupby( 'customer_type').size() / len( x_train )\n",
    "x_train['customer_type'] = x_train['customer_type'].map( fe_customer_type )\n",
    "\n",
    "# # Ajuste coluna type_of_purchase para Gift = 1 e Personal = 0\n",
    "# x_train['type_of_purchase'] = x_train['type_of_purchase'].apply(lambda x: 1 if(x =='Gift') else 0)\n",
    "\n",
    "# type_of_purchase - Frequency Encoding / Target Encoding\n",
    "fe_type_of_purchase = x_train.groupby( 'type_of_purchase' ).size() / len( x_train ) \n",
    "x_train['type_of_purchase'] = x_train['type_of_purchase'].map( fe_type_of_purchase )\n",
    "\n",
    "# Ajuste coluna customer_type para 1 loyal e 0 disloyal\n",
    "x_train['store_size'] = x_train['store_size'].apply(lambda x: 2 if(x =='Large') else 1 if(x == 'Medium') else 0)\n",
    "\n",
    "# Criando coluna Faixa_Etaria\n",
    "x_train['age_range'] = x_train['age'].apply(lambda x: 1 if x <= 18 else\n",
    "                                            2 if ((x > 18) and (x <= 30)) else\n",
    "                                            3 if (x > 30) and (x <= 50) else \n",
    "                                            4 if (x > 50) and (x <= 70) else 5\n",
    "                                            ) \n",
    "\n",
    "# Age\n",
    "x_train['age'] = mms_age.fit_transform( x_train[['age']].values )\n",
    "\n",
    "\n",
    "# Store Size\n",
    "x_train['store_size'] = oenc.fit_transform( x_train[['store_size']].values )\n"
   ]
  },
  {
   "cell_type": "code",
   "execution_count": null,
   "id": "5df1c399",
   "metadata": {
    "ExecuteTime": {
     "end_time": "2023-07-15T19:16:55.294557Z",
     "start_time": "2023-07-15T19:16:55.265087Z"
    }
   },
   "outputs": [],
   "source": [
    "# # Ajuste coluna gender para 1 mulher e 0 homem\n",
    "# x_valid['gender'] = x_valid['gender'].apply(lambda x: 1 if(x =='Female') else 0)\n",
    "\n",
    "# Gender \n",
    "fe_gender = x_valid.groupby('gender').size() / len(x_valid)\n",
    "x_valid['gender'] = x_valid['gender'].map( fe_gender )\n",
    "\n",
    "# # Ajuste coluna customer_type para 1 loyal e 0 disloyal\n",
    "# x_valid['customer_type'] = x_valid['customer_type'].apply(lambda x: 1 if(x =='Loyal Customer') else 0)\n",
    "\n",
    "# customer_type - Frequency Encoding / Target Encoding / Weighted Targed Encoding\n",
    "fe_customer_type = x_valid.groupby( 'customer_type').size() / len( x_valid )\n",
    "x_valid['customer_type'] = x_valid['customer_type'].map( fe_customer_type )\n",
    "\n",
    "# # Ajuste coluna type_of_purchase para Gift = 1 e Personal = 0\n",
    "# x_valid['type_of_purchase'] = x_valid['type_of_purchase'].apply(lambda x: 1 if(x =='Gift') else 0)\n",
    "\n",
    "# type_of_purchase - Frequency Encoding / Target Encoding\n",
    "fe_type_of_purchase = x_valid.groupby( 'type_of_purchase' ).size() / len( x_valid ) \n",
    "x_valid['type_of_purchase'] = x_valid['type_of_purchase'].map( fe_type_of_purchase )\n",
    "\n",
    "# Ajuste coluna customer_type para 1 loyal e 0 disloyal\n",
    "x_valid['store_size'] = x_valid['store_size'].apply(lambda x: 2 if(x =='Large') else 1 if(x == 'Medium') else 0)\n",
    "\n",
    "# Criando coluna Faixa_Etaria\n",
    "x_valid['age_range'] = x_valid['age'].apply(lambda x: 1 if x <= 18 else\n",
    "                                            2 if ((x > 18) and (x <= 30)) else\n",
    "                                            3 if (x > 30) and (x <= 50) else \n",
    "                                            4 if (x > 50) and (x <= 70) else 5\n",
    "                                            )       \n",
    "\n",
    "# Age\n",
    "x_valid['age'] = mms_age.fit_transform( x_valid[['age']].values )\n",
    "\n",
    "\n",
    "# Store Size\n",
    "x_valid['store_size'] = oenc.fit_transform( x_valid[['store_size']].values )                                                                                                                                                                                                        "
   ]
  },
  {
   "cell_type": "code",
   "execution_count": null,
   "id": "aba68c68",
   "metadata": {
    "ExecuteTime": {
     "end_time": "2023-07-15T19:17:00.953959Z",
     "start_time": "2023-07-15T19:17:00.921319Z"
    }
   },
   "outputs": [],
   "source": [
    "# Ajuste do dataset com a variavel resposta\n",
    "y_train = y_train.apply(lambda x: 1 if(x=='Satisfied') else 0)\n",
    "y_valid = y_valid.apply(lambda x: 1 if(x=='Satisfied') else 0)"
   ]
  },
  {
   "cell_type": "markdown",
   "id": "bbb05d4e",
   "metadata": {},
   "source": [
    "### 1.1 Tratando Outlier"
   ]
  },
  {
   "cell_type": "markdown",
   "id": "f1587626",
   "metadata": {},
   "source": [
    "<font color='orange'>Ultimas Transformações inclusas</font>"
   ]
  },
  {
   "cell_type": "code",
   "execution_count": 96,
   "id": "7ec6936c",
   "metadata": {},
   "outputs": [],
   "source": [
    "# Preenchendo dados nulos\n",
    "x_train_log['delivery_delay_in_minutes'] = x_train_log['delivery_delay_in_minutes'].fillna(0)\n",
    "x_valid_log['delivery_delay_in_minutes'] = x_valid_log['delivery_delay_in_minutes'].fillna(0)\n",
    "\n",
    "# Gender Percentage (Porcentagem de homens e mulheres)\n",
    "fe_gender = x_train_log.groupby('gender').size() / len(x_train_log)\n",
    "x_train_log['gender'] = x_train_log['gender'].map( fe_gender )\n",
    "\n",
    "# customer_type - Frequency Encoding / Target Encoding / Weighted Targed Encoding\n",
    "fe_customer_type = x_train_log.groupby( 'customer_type').size() / len( x_train_log )\n",
    "x_train_log['customer_type'] = x_train_log['customer_type'].map( fe_customer_type )\n",
    "\n",
    "# type_of_purchase - Frequency Encoding / Target Encoding\n",
    "fe_type_of_purchase = x_train_log.groupby( 'type_of_purchase' ).size() / len( x_train_log ) \n",
    "x_train_log['type_of_purchase'] = x_train_log['type_of_purchase'].map( fe_type_of_purchase )\n",
    "\n",
    "# Ajuste coluna customer_type para 1 loyal e 0 disloyal\n",
    "x_train_log['store_size'] = x_train_log['store_size'].apply(lambda x: 2 if(x =='Large') else 1 if(x == 'Medium') else 0)\n",
    "\n",
    "# Criando coluna Faixa_Etaria\n",
    "x_train_log['age_range'] = x_train_log['age'].apply(lambda x: 1 if x <= 18 else\n",
    "                                            2 if ((x > 18) and (x <= 30)) else\n",
    "                                            3 if (x > 30) and (x <= 50) else \n",
    "                                            4 if (x > 50) and (x <= 70) else 5\n",
    "                                            ) \n",
    "\n",
    "# Age\n",
    "x_train_log['age'] = mms_age.fit_transform( x_train_log[['age']].values )\n",
    "\n",
    "# Store Size\n",
    "x_train_log['store_size'] = oenc.fit_transform( x_train_log[['store_size']].values )\n",
    "\n",
    "########### \n",
    "\n",
    "# Gender \n",
    "fe_gender = x_valid_log.groupby('gender').size() / len(x_valid_log)\n",
    "x_valid_log['gender'] = x_valid_log['gender'].map( fe_gender )\n",
    "\n",
    "# customer_type - Frequency Encoding / Target Encoding / Weighted Targed Encoding\n",
    "fe_customer_type = x_valid_log.groupby( 'customer_type').size() / len( x_valid_log )\n",
    "x_valid_log['customer_type'] = x_valid_log['customer_type'].map( fe_customer_type )\n",
    "\n",
    "# type_of_purchase - Frequency Encoding / Target Encoding\n",
    "fe_type_of_purchase = x_valid_log.groupby( 'type_of_purchase' ).size() / len( x_valid_log ) \n",
    "x_valid_log['type_of_purchase'] = x_valid_log['type_of_purchase'].map( fe_type_of_purchase )\n",
    "\n",
    "# Ajuste coluna customer_type para 1 loyal e 0 disloyal\n",
    "x_valid_log['store_size'] = x_valid_log['store_size'].apply(lambda x: 2 if(x =='Large') else 1 if(x == 'Medium') else 0)\n",
    "\n",
    "# Criando coluna Faixa_Etaria\n",
    "x_valid_log['age_range'] = x_valid_log['age'].apply(lambda x: 1 if x <= 18 else\n",
    "                                            2 if ((x > 18) and (x <= 30)) else\n",
    "                                            3 if (x > 30) and (x <= 50) else \n",
    "                                            4 if (x > 50) and (x <= 70) else 5\n",
    "                                            )       \n",
    "\n",
    "# Age\n",
    "x_valid_log['age'] = mms_age.fit_transform( x_valid_log[['age']].values )\n",
    "\n",
    "\n",
    "# Store Size\n",
    "x_valid_log['store_size'] = oenc.fit_transform( x_valid_log[['store_size']].values )                                                                                                                                                                                                        \n",
    "\n",
    "# Ajuste do dataset com a variavel resposta\n",
    "y_train_log = y_train_log.apply(lambda x: 1 if(x=='Satisfied') else 0)\n",
    "y_valid_log = y_valid_log.apply(lambda x: 1 if(x=='Satisfied') else 0)"
   ]
  },
  {
   "cell_type": "code",
   "execution_count": 97,
   "id": "5420331b",
   "metadata": {},
   "outputs": [
    {
     "data": {
      "text/plain": [
       "<Axes: xlabel='carrier_delay_in_minutes', ylabel='Density'>"
      ]
     },
     "execution_count": 97,
     "metadata": {},
     "output_type": "execute_result"
    },
    {
     "data": {
      "image/png": "[encoded data removed]",
      "text/plain": [
       "<Figure size 640x480 with 1 Axes>"
      ]
     },
     "metadata": {},
     "output_type": "display_data"
    }
   ],
   "source": [
    "x_train_log['carrier_delay_in_minutes'] = x_train_log['carrier_delay_in_minutes'].apply(lambda x: np.log(x) if x > 0 else x)   \n",
    "\n",
    "sns.distplot( x_train_log['carrier_delay_in_minutes'], kde=True )\n",
    "\n",
    "\n",
    "\n",
    "x_valid_log['carrier_delay_in_minutes'] = x_valid_log['carrier_delay_in_minutes'].apply(lambda x: np.log(x) if x > 0 else x)   \n",
    "\n",
    "sns.distplot( x_valid_log['carrier_delay_in_minutes'], kde=True )"
   ]
  },
  {
   "cell_type": "markdown",
   "id": "44c7cf8b",
   "metadata": {},
   "source": [
    " ### DROPAR COLUNAS ALTAMENTE RELACIONADAS"
   ]
  },
  {
   "cell_type": "code",
   "execution_count": null,
   "id": "e4a7856d",
   "metadata": {
    "ExecuteTime": {
     "end_time": "2023-07-15T19:17:05.540227Z",
     "start_time": "2023-07-15T19:17:05.537100Z"
    }
   },
   "outputs": [],
   "source": [
    "drop_col = ['id','in_store_wifi', 'dressing_room', 'store_size']"
   ]
  },
  {
   "cell_type": "code",
   "execution_count": null,
   "id": "f2af05f3",
   "metadata": {
    "ExecuteTime": {
     "end_time": "2023-07-15T19:17:05.976156Z",
     "start_time": "2023-07-15T19:17:05.965242Z"
    }
   },
   "outputs": [],
   "source": [
    "x_training_drop = x_train.drop(drop_col, axis=1)\n",
    "x_validation_drop = x_valid.drop(drop_col, axis=1)"
   ]
  },
  {
   "cell_type": "code",
   "execution_count": 85,
   "id": "a5541e72",
   "metadata": {
    "ExecuteTime": {
     "end_time": "2023-07-15T19:17:06.481250Z",
     "start_time": "2023-07-15T19:17:06.477146Z"
    }
   },
   "outputs": [],
   "source": [
    "drop_col_1 = ['id','in_store_wifi', 'dressing_room', 'store_size','delivery_delay_in_minutes','waiting_room', 'kids_entertainment', 'seller_service']\n",
    "\n",
    "drop_col_2 = ['id', 'in_store_wifi', 'dressing_room', 'delivery_delay_in_minutes', 'waiting_room', 'kids_entertainment', 'seller_service']"
   ]
  },
  {
   "cell_type": "code",
   "execution_count": null,
   "id": "bdec8006",
   "metadata": {
    "ExecuteTime": {
     "end_time": "2023-07-15T19:17:06.896463Z",
     "start_time": "2023-07-15T19:17:06.883321Z"
    }
   },
   "outputs": [],
   "source": [
    "x_training_drop_1 = x_train.drop(drop_col_1, axis=1)\n",
    "x_validation_drop_1 = x_valid.drop(drop_col_1, axis=1)"
   ]
  },
  {
   "cell_type": "code",
   "execution_count": 86,
   "id": "f0fd110e",
   "metadata": {},
   "outputs": [],
   "source": [
    "x_training_drop_1_log = x_train_log.drop(drop_col_1, axis=1)\n",
    "x_validation_drop_1_log = x_valid_log.drop(drop_col_1, axis=1)"
   ]
  },
  {
   "cell_type": "markdown",
   "id": "c6096165",
   "metadata": {},
   "source": [
    "<font color='orange'>rodando com as transformações nas features</font>"
   ]
  },
  {
   "cell_type": "code",
   "execution_count": 52,
   "id": "1b2757f0",
   "metadata": {},
   "outputs": [],
   "source": [
    "# x_training_drop_1_log_feature = x_train_log.drop(drop_col_1, axis=1)\n",
    "# x_validation_drop_1_log_feature = x_valid_log.drop(drop_col_1, axis=1)\n",
    "\n",
    "x_training_drop_1_log_feature = x_train_log.drop(drop_col_2, axis=1)\n",
    "x_validation_drop_1_log_feature = x_valid_log.drop(drop_col_2, axis=1)"
   ]
  },
  {
   "cell_type": "markdown",
   "id": "d4c0ce6e",
   "metadata": {},
   "source": [
    "## 7 - ML MODELS TRAINING"
   ]
  },
  {
   "cell_type": "markdown",
   "id": "610eefe4",
   "metadata": {},
   "source": [
    "#### 7.1.1 - XGB Model"
   ]
  },
  {
   "cell_type": "markdown",
   "id": "883a7297",
   "metadata": {},
   "source": [
    "##### 7.1.1.1 - Sem nenhuma trativa"
   ]
  },
  {
   "cell_type": "code",
   "execution_count": null,
   "id": "a3107d6a",
   "metadata": {
    "ExecuteTime": {
     "end_time": "2023-07-15T19:17:13.063893Z",
     "start_time": "2023-07-15T19:17:10.356042Z"
    }
   },
   "outputs": [],
   "source": [
    "# model definition\n",
    "xgb_model = XGBClassifier()\n",
    "\n",
    "# model training\n",
    "xgb_model.fit( x_train, y_train )\n",
    "\n",
    "# model prediction - Check if the model perform well\n",
    "yhat_xgb = xgb_model.predict( x_valid )"
   ]
  },
  {
   "cell_type": "code",
   "execution_count": null,
   "id": "af116480",
   "metadata": {
    "ExecuteTime": {
     "end_time": "2023-07-15T19:17:13.079897Z",
     "start_time": "2023-07-15T19:17:13.066402Z"
    }
   },
   "outputs": [],
   "source": [
    "xgb_precision = precision_score(y_valid, yhat_xgb, average='micro') \n",
    "xgb_performance = ml_performance('XGB', xgb_precision)"
   ]
  },
  {
   "cell_type": "markdown",
   "id": "3d04ae55",
   "metadata": {},
   "source": [
    "<font color='orange'>rodei sem dropar, considerando as novas features e o log</font>"
   ]
  },
  {
   "cell_type": "code",
   "execution_count": 100,
   "id": "b99e4834",
   "metadata": {},
   "outputs": [],
   "source": [
    "# model definition\n",
    "xgb_model = XGBClassifier()\n",
    "\n",
    "# model training\n",
    "xgb_model.fit( x_train_log, y_train_log )\n",
    "\n",
    "# model prediction - Check if the model perform well\n",
    "yhat_xgb = xgb_model.predict( x_valid_log )"
   ]
  },
  {
   "cell_type": "code",
   "execution_count": 101,
   "id": "200baf3e",
   "metadata": {},
   "outputs": [],
   "source": [
    "xgb_precision = precision_score(y_valid_log, yhat_xgb, average='micro') \n",
    "xgb_performance = ml_performance('XGB', xgb_precision)"
   ]
  },
  {
   "cell_type": "markdown",
   "id": "dba0fdb4",
   "metadata": {
    "ExecuteTime": {
     "end_time": "2023-07-15T19:12:54.806986Z",
     "start_time": "2023-07-15T19:12:54.803981Z"
    }
   },
   "source": [
    "##### 7.1.1.2 - Dropando as colunas -> ('id','in_store_wifi', 'dressing_room', 'store_size') "
   ]
  },
  {
   "cell_type": "code",
   "execution_count": null,
   "id": "b4500213",
   "metadata": {
    "ExecuteTime": {
     "end_time": "2023-07-15T19:17:14.573470Z",
     "start_time": "2023-07-15T19:17:13.332644Z"
    }
   },
   "outputs": [],
   "source": [
    "# model definition\n",
    "xgb_model_drop = XGBClassifier()\n",
    "\n",
    "# model training\n",
    "xgb_model_drop.fit( x_training_drop, y_train )\n",
    "\n",
    "# model prediction - Check if the model perform well\n",
    "yhat_xgb_drop = xgb_model_drop.predict( x_validation_drop )"
   ]
  },
  {
   "cell_type": "code",
   "execution_count": null,
   "id": "d20da535",
   "metadata": {
    "ExecuteTime": {
     "end_time": "2023-07-15T19:17:14.589525Z",
     "start_time": "2023-07-15T19:17:14.575470Z"
    }
   },
   "outputs": [],
   "source": [
    "xgb_precision_drop = precision_score(y_valid, yhat_xgb_drop, average='micro') \n",
    "xgb_performance_drop = ml_performance('XGB', xgb_precision_drop)"
   ]
  },
  {
   "cell_type": "markdown",
   "id": "e67cad73",
   "metadata": {},
   "source": [
    "##### 7.1.1.3 - Dropando as colunas -> ('id','in_store_wifi', 'dressing_room', 'store_size','delivery_delay_in_minutes','waiting_room', 'kids_entertainment', 'seller_service') "
   ]
  },
  {
   "cell_type": "code",
   "execution_count": null,
   "id": "fd15d02e",
   "metadata": {
    "ExecuteTime": {
     "end_time": "2023-07-15T19:18:17.430785Z",
     "start_time": "2023-07-15T19:18:16.295289Z"
    }
   },
   "outputs": [],
   "source": [
    "# model definition\n",
    "xgb_model_drop_1 = XGBClassifier()\n",
    "\n",
    "# model training\n",
    "xgb_model_drop_1.fit( x_training_drop_1, y_train )\n",
    "\n",
    "# model prediction - Check if the model perform well\n",
    "yhat_xgb_drop_1 = xgb_model_drop_1.predict( x_validation_drop_1 )"
   ]
  },
  {
   "cell_type": "code",
   "execution_count": null,
   "id": "6347d6a8",
   "metadata": {
    "ExecuteTime": {
     "end_time": "2023-07-15T19:18:19.352330Z",
     "start_time": "2023-07-15T19:18:19.339023Z"
    }
   },
   "outputs": [],
   "source": [
    "xgb_precision_drop_1 = precision_score(y_valid, yhat_xgb_drop_1, average='micro') \n",
    "xgb_performance_drop_1 = ml_performance('XGB', xgb_precision_drop_1)"
   ]
  },
  {
   "cell_type": "markdown",
   "id": "65f4034c",
   "metadata": {},
   "source": [
    "##### 7.1.1.4 - 7.1.1.3 + Trativa Outliers (Log)"
   ]
  },
  {
   "cell_type": "code",
   "execution_count": null,
   "id": "e7b62067",
   "metadata": {},
   "outputs": [],
   "source": [
    "# model definition\n",
    "xgb_model_drop_1_log = XGBClassifier()\n",
    "\n",
    "# model training\n",
    "xgb_model_drop_1_log.fit( x_training_drop_1_log, y_train_log )\n",
    "\n",
    "# model prediction - Check if the model perform well\n",
    "yhat_xgb_drop_1_log = xgb_model_drop_1_log.predict( x_validation_drop_1_log )"
   ]
  },
  {
   "cell_type": "code",
   "execution_count": null,
   "id": "493a0f22",
   "metadata": {},
   "outputs": [],
   "source": [
    "xgb_precision_drop_1_log = precision_score(y_valid_log, yhat_xgb_drop_1_log, average='micro') \n",
    "xgb_performance_drop_1_log = ml_performance('XGB', xgb_precision_drop_1_log)"
   ]
  },
  {
   "cell_type": "markdown",
   "id": "9821e164",
   "metadata": {},
   "source": [
    "##### 7.1.1.5 - 7.1.1.3 + Trativa Outliers (Log) + Features <font color='orange'>rodei</font>"
   ]
  },
  {
   "cell_type": "code",
   "execution_count": 69,
   "id": "fd2853a4",
   "metadata": {},
   "outputs": [],
   "source": [
    "# model definition\n",
    "xgb_model_drop_1_log_feature = XGBClassifier()\n",
    "\n",
    "# model training\n",
    "xgb_model_drop_1_log_feature.fit( x_training_drop_1_log_feature, y_train_log )\n",
    "\n",
    "# model prediction - Check if the model perform well\n",
    "yhat_xgb_drop_1_log_feature = xgb_model_drop_1_log_feature.predict( x_validation_drop_1_log_feature )"
   ]
  },
  {
   "cell_type": "code",
   "execution_count": 70,
   "id": "c41aa0b1",
   "metadata": {},
   "outputs": [],
   "source": [
    "xgb_precision_drop_1_log = precision_score(y_valid_log, yhat_xgb_drop_1_log_feature, average='micro') \n",
    "xgb_performance_drop_1_log_feature = ml_performance('XGB', xgb_precision_drop_1_log)"
   ]
  },
  {
   "cell_type": "markdown",
   "id": "f2755c6b",
   "metadata": {},
   "source": [
    "#### 7.1.2 - KNN"
   ]
  },
  {
   "cell_type": "markdown",
   "id": "44b71637",
   "metadata": {},
   "source": [
    "##### 7.1.2.1 - Sem nenhuma tratativa"
   ]
  },
  {
   "cell_type": "code",
   "execution_count": null,
   "id": "ef56b7dd",
   "metadata": {
    "ExecuteTime": {
     "end_time": "2023-07-15T19:18:24.610021Z",
     "start_time": "2023-07-15T19:18:23.403357Z"
    }
   },
   "outputs": [],
   "source": [
    "# model definition\n",
    "knn_model = nh.KNeighborsClassifier( n_neighbors=8 )\n",
    "\n",
    "# model training\n",
    "knn_model.fit( x_train, y_train )\n",
    "\n",
    "# model prediction - The generalization POWER\n",
    "yhat_knn = knn_model.predict( x_valid )"
   ]
  },
  {
   "cell_type": "code",
   "execution_count": null,
   "id": "5d0ec872",
   "metadata": {
    "ExecuteTime": {
     "end_time": "2023-07-15T19:18:24.624737Z",
     "start_time": "2023-07-15T19:18:24.612230Z"
    }
   },
   "outputs": [],
   "source": [
    "knn_precision = precision_score(y_valid, yhat_knn, average='micro') \n",
    "KNN_performance = ml_performance('KNN', knn_precision) "
   ]
  },
  {
   "cell_type": "markdown",
   "id": "6c640e7e",
   "metadata": {},
   "source": [
    "<font color='orange'>rodei sem dropar, considerando as novas features e o log</font>"
   ]
  },
  {
   "cell_type": "code",
   "execution_count": 102,
   "id": "18295cb1",
   "metadata": {},
   "outputs": [],
   "source": [
    "# model definition\n",
    "knn_model = nh.KNeighborsClassifier( n_neighbors=8 )\n",
    "\n",
    "# model training\n",
    "knn_model.fit( x_train_log, y_train_log )\n",
    "\n",
    "# model prediction - The generalization POWER\n",
    "yhat_knn = knn_model.predict( x_valid_log )"
   ]
  },
  {
   "cell_type": "code",
   "execution_count": 103,
   "id": "9a8d77d4",
   "metadata": {},
   "outputs": [],
   "source": [
    "knn_precision = precision_score(y_valid_log, yhat_knn, average='micro') \n",
    "KNN_performance = ml_performance('KNN', knn_precision) "
   ]
  },
  {
   "cell_type": "markdown",
   "id": "badb780f",
   "metadata": {
    "ExecuteTime": {
     "end_time": "2023-07-15T19:18:24.636611Z",
     "start_time": "2023-07-15T19:18:24.626033Z"
    }
   },
   "source": [
    "##### 7.1.2.2 - Dropando as colunas -> ('id','in_store_wifi', 'dressing_room', 'store_size') "
   ]
  },
  {
   "cell_type": "code",
   "execution_count": null,
   "id": "d9a883cc",
   "metadata": {
    "ExecuteTime": {
     "end_time": "2023-07-15T19:18:29.700858Z",
     "start_time": "2023-07-15T19:18:28.481328Z"
    }
   },
   "outputs": [],
   "source": [
    "# model definition\n",
    "knn_model_drop = nh.KNeighborsClassifier( n_neighbors=8 )\n",
    "\n",
    "# model training\n",
    "knn_model_drop.fit( x_training_drop, y_train )\n",
    "\n",
    "# model prediction - The generalization POWER\n",
    "yhat_knn_drop = knn_model_drop.predict( x_validation_drop )"
   ]
  },
  {
   "cell_type": "code",
   "execution_count": null,
   "id": "2cb5b35b",
   "metadata": {
    "ExecuteTime": {
     "end_time": "2023-07-15T19:18:29.716319Z",
     "start_time": "2023-07-15T19:18:29.702865Z"
    }
   },
   "outputs": [],
   "source": [
    "knn_precision_drop = precision_score(y_valid, yhat_knn_drop, average='micro') \n",
    "knn_performance_drop = ml_performance('KNN', knn_precision_drop)"
   ]
  },
  {
   "cell_type": "markdown",
   "id": "94ee313b",
   "metadata": {
    "ExecuteTime": {
     "end_time": "2023-07-15T19:17:16.659854Z",
     "start_time": "2023-07-15T19:17:16.659854Z"
    }
   },
   "source": [
    "##### 7.1.2.3 - Dropando as colunas -> ('id','in_store_wifi', 'dressing_room', 'store_size','delivery_delay_in_minutes','waiting_room', 'kids_entertainment', 'seller_service') "
   ]
  },
  {
   "cell_type": "code",
   "execution_count": null,
   "id": "05dacadc",
   "metadata": {
    "ExecuteTime": {
     "end_time": "2023-07-15T19:18:37.025000Z",
     "start_time": "2023-07-15T19:18:35.923647Z"
    }
   },
   "outputs": [],
   "source": [
    "# model definition\n",
    "knn_model_drop_1 = nh.KNeighborsClassifier( n_neighbors=8 )\n",
    "\n",
    "# model training\n",
    "knn_model_drop_1.fit( x_training_drop_1, y_train )\n",
    "\n",
    "# model prediction - The generalization POWER\n",
    "yhat_knn_drop_1 = knn_model_drop_1.predict( x_validation_drop_1 )"
   ]
  },
  {
   "cell_type": "code",
   "execution_count": null,
   "id": "57e7079f",
   "metadata": {
    "ExecuteTime": {
     "end_time": "2023-07-15T19:18:40.287278Z",
     "start_time": "2023-07-15T19:18:40.270311Z"
    }
   },
   "outputs": [],
   "source": [
    "knn_precision_drop_1 = precision_score(y_valid, yhat_knn_drop_1, average='micro') \n",
    "knn_performance_drop_1 = ml_performance('KNN', knn_precision_drop_1)"
   ]
  },
  {
   "cell_type": "markdown",
   "id": "975ae95e",
   "metadata": {},
   "source": [
    "##### 7.1.2.4 - 7.1.2.3 + Trativa Outliers (Log)"
   ]
  },
  {
   "cell_type": "code",
   "execution_count": null,
   "id": "976193ea",
   "metadata": {},
   "outputs": [],
   "source": [
    "# model definition\n",
    "knn_model_drop_1_log = nh.KNeighborsClassifier( n_neighbors=8 )\n",
    "\n",
    "# model training\n",
    "knn_model_drop_1_log.fit( x_training_drop_1_log, y_train_log )\n",
    "\n",
    "# model prediction - The generalization POWER\n",
    "yhat_knn_drop_1_log = knn_model_drop_1_log.predict( x_validation_drop_1_log )"
   ]
  },
  {
   "cell_type": "code",
   "execution_count": null,
   "id": "d845aa78",
   "metadata": {},
   "outputs": [],
   "source": [
    "knn_precision_drop_1_log = precision_score(y_valid_log, yhat_knn_drop_1_log, average='micro') \n",
    "knn_performance_drop_1_log = ml_performance('KNN', knn_precision_drop_1_log)"
   ]
  },
  {
   "cell_type": "markdown",
   "id": "3831bcca",
   "metadata": {},
   "source": [
    "##### 7.1.2.5 - 7.1.1.3 + Trativa Outliers (Log) + Features <font color='orange'>rodei</font>"
   ]
  },
  {
   "cell_type": "code",
   "execution_count": 67,
   "id": "dba046c8",
   "metadata": {},
   "outputs": [],
   "source": [
    "# model definition\n",
    "knn_model_drop_1_log_feature = nh.KNeighborsClassifier( n_neighbors=8 )\n",
    "\n",
    "# model training\n",
    "knn_model_drop_1_log_feature.fit( x_training_drop_1_log_feature, y_train_log )\n",
    "\n",
    "# model prediction - The generalization POWER\n",
    "yhat_knn_drop_1_log_feature = knn_model_drop_1_log_feature.predict( x_validation_drop_1_log_feature )"
   ]
  },
  {
   "cell_type": "code",
   "execution_count": 68,
   "id": "601a2b3b",
   "metadata": {},
   "outputs": [],
   "source": [
    "knn_precision_drop_1_log = precision_score(y_valid_log, yhat_knn_drop_1_log_feature, average='micro') \n",
    "knn_performance_drop_1_log_feature = ml_performance('KNN', knn_precision_drop_1_log)"
   ]
  },
  {
   "cell_type": "markdown",
   "id": "65fa88ad",
   "metadata": {},
   "source": [
    "#### 7.1.3 - Light gradient Boostin Machine Classifier Model"
   ]
  },
  {
   "cell_type": "markdown",
   "id": "31cf3669",
   "metadata": {},
   "source": [
    "##### 7.1.3.1 - Sem nenhuma tratativa"
   ]
  },
  {
   "cell_type": "code",
   "execution_count": null,
   "id": "2f91bffe",
   "metadata": {
    "ExecuteTime": {
     "end_time": "2023-07-15T19:18:42.802320Z",
     "start_time": "2023-07-15T19:18:42.406148Z"
    }
   },
   "outputs": [],
   "source": [
    "# Model Definition\n",
    "lgbm_model = lgbm.LGBMClassifier( learning_rate=0.09, max_depth=-5, random_state=42 )\n",
    "\n",
    "# Model training\n",
    "model_lgbm = lgbm_model.fit( x_train, y_train )\n",
    "\n",
    "# Model Prediction\n",
    "yhat_lgbm = model_lgbm.predict( x_valid )"
   ]
  },
  {
   "cell_type": "code",
   "execution_count": null,
   "id": "7cdbb6d0",
   "metadata": {
    "ExecuteTime": {
     "end_time": "2023-07-15T19:18:45.905573Z",
     "start_time": "2023-07-15T19:18:45.893033Z"
    }
   },
   "outputs": [],
   "source": [
    "lgbm_precision = precision_score(y_valid, yhat_lgbm, average='micro') \n",
    "lgbm_performance = ml_performance('LGBM', lgbm_precision) "
   ]
  },
  {
   "cell_type": "markdown",
   "id": "a3b4bdb5",
   "metadata": {},
   "source": [
    "<font color='orange'>rodei sem dropar, considerando as novas features e o log</font>"
   ]
  },
  {
   "cell_type": "code",
   "execution_count": 104,
   "id": "2e5ef49f",
   "metadata": {},
   "outputs": [],
   "source": [
    "# Model Definition\n",
    "lgbm_model = lgbm.LGBMClassifier( learning_rate=0.09, max_depth=-5, random_state=42 )\n",
    "\n",
    "# Model training\n",
    "model_lgbm = lgbm_model.fit( x_train_log, y_train_log )\n",
    "\n",
    "# Model Prediction\n",
    "yhat_lgbm = model_lgbm.predict( x_valid_log )"
   ]
  },
  {
   "cell_type": "code",
   "execution_count": 105,
   "id": "bc3b3932",
   "metadata": {},
   "outputs": [],
   "source": [
    "lgbm_precision = precision_score(y_valid_log, yhat_lgbm, average='micro') \n",
    "lgbm_performance = ml_performance('LGBM', lgbm_precision) "
   ]
  },
  {
   "cell_type": "markdown",
   "id": "6e38e4af",
   "metadata": {
    "ExecuteTime": {
     "end_time": "2023-07-15T19:17:16.764047Z",
     "start_time": "2023-07-15T19:17:16.761183Z"
    }
   },
   "source": [
    "##### 7.1.3.2 - Dropando as colunas -> ('id','in_store_wifi', 'dressing_room', 'store_size') "
   ]
  },
  {
   "cell_type": "code",
   "execution_count": null,
   "id": "a7336180",
   "metadata": {
    "ExecuteTime": {
     "end_time": "2023-07-15T19:18:48.414177Z",
     "start_time": "2023-07-15T19:18:48.048082Z"
    }
   },
   "outputs": [],
   "source": [
    "# Model Definition\n",
    "lgbm_model_drop = lgbm.LGBMClassifier( learning_rate=0.09, max_depth=-5, random_state=42 )\n",
    "\n",
    "# Model training\n",
    "model_lgbm_drop = lgbm_model_drop.fit( x_training_drop, y_train )\n",
    "\n",
    "# Model Prediction\n",
    "yhat_lgbm_drop = model_lgbm_drop.predict( x_validation_drop )"
   ]
  },
  {
   "cell_type": "code",
   "execution_count": null,
   "id": "9aee6abc",
   "metadata": {
    "ExecuteTime": {
     "end_time": "2023-07-15T19:18:51.347670Z",
     "start_time": "2023-07-15T19:18:51.334565Z"
    }
   },
   "outputs": [],
   "source": [
    "lgbm_precision_drop = precision_score(y_valid, yhat_lgbm_drop, average='micro') \n",
    "lgbm_performance_drop = ml_performance('LGBM', lgbm_precision_drop) "
   ]
  },
  {
   "cell_type": "markdown",
   "id": "56fcf7c4",
   "metadata": {
    "ExecuteTime": {
     "end_time": "2023-07-15T19:17:17.334914Z",
     "start_time": "2023-07-15T19:17:17.328394Z"
    }
   },
   "source": [
    "##### 7.1.3.3 - Dropando as colunas -> ('id','in_store_wifi', 'dressing_room', 'store_size','delivery_delay_in_minutes','waiting_room', 'kids_entertainment', 'seller_service') "
   ]
  },
  {
   "cell_type": "code",
   "execution_count": null,
   "id": "8dafb8a7",
   "metadata": {
    "ExecuteTime": {
     "end_time": "2023-07-15T19:18:53.911893Z",
     "start_time": "2023-07-15T19:18:53.557688Z"
    }
   },
   "outputs": [],
   "source": [
    "# Model Definition\n",
    "lgbm_model_drop_1 = lgbm.LGBMClassifier( learning_rate=0.09, max_depth=-5, random_state=42 )\n",
    "\n",
    "# Model training\n",
    "model_lgbm_drop_1 = lgbm_model_drop_1.fit( x_training_drop_1, y_train )\n",
    "\n",
    "# Model Prediction\n",
    "yhat_lgbm_drop_1 = model_lgbm_drop_1.predict( x_validation_drop_1 )"
   ]
  },
  {
   "cell_type": "code",
   "execution_count": null,
   "id": "09447803",
   "metadata": {
    "ExecuteTime": {
     "end_time": "2023-07-15T19:18:55.103993Z",
     "start_time": "2023-07-15T19:18:55.087112Z"
    }
   },
   "outputs": [],
   "source": [
    "lgbm_precision_drop_1 = precision_score(y_valid, yhat_lgbm_drop_1, average='micro') \n",
    "lgbm_performance_drop_1 = ml_performance('LGBM', lgbm_precision_drop_1) "
   ]
  },
  {
   "cell_type": "markdown",
   "id": "261dabb8",
   "metadata": {},
   "source": [
    "##### 7.1.3.4 - 7.1.3.3 + Trativa Outliers (Log) <font color='orange'>rodei</font>"
   ]
  },
  {
   "cell_type": "code",
   "execution_count": 57,
   "id": "17f44dfb",
   "metadata": {},
   "outputs": [],
   "source": [
    "# Model Definition\n",
    "lgbm_model_drop_1_log_feature = lgbm.LGBMClassifier( learning_rate=0.09, max_depth=-5, random_state=42 )\n",
    "\n",
    "# Model training\n",
    "model_lgbm_drop_1_log_feature = lgbm_model_drop_1_log_feature.fit( x_training_drop_1_log_feature, y_train_log )\n",
    "\n",
    "# Model Prediction\n",
    "yhat_lgbm_drop_1_log_feature = model_lgbm_drop_1_log_feature.predict( x_validation_drop_1_log_feature )"
   ]
  },
  {
   "cell_type": "code",
   "execution_count": 58,
   "id": "571d02f5",
   "metadata": {},
   "outputs": [],
   "source": [
    "lgbm_precision_drop_1_feature = precision_score(y_valid_log, yhat_lgbm_drop_1_log_feature, average='micro') \n",
    "lgbm_performance_drop_1_log_feature = ml_performance('LGBM', lgbm_precision_drop_1_feature) "
   ]
  },
  {
   "cell_type": "markdown",
   "id": "d2dadbd9",
   "metadata": {},
   "source": [
    "# Performance dos Modelos"
   ]
  },
  {
   "cell_type": "markdown",
   "id": "d7949873",
   "metadata": {},
   "source": [
    "### Sem nenhuma tratativa <font color='orange'>rodei</font>"
   ]
  },
  {
   "cell_type": "code",
   "execution_count": 106,
   "id": "223fb42b",
   "metadata": {
    "ExecuteTime": {
     "end_time": "2023-07-15T19:18:56.867168Z",
     "start_time": "2023-07-15T19:18:56.859743Z"
    }
   },
   "outputs": [
    {
     "data": {
      "text/html": [
       "<div>\n",
       "<style scoped>\n",
       "    .dataframe tbody tr th:only-of-type {\n",
       "        vertical-align: middle;\n",
       "    }\n",
       "\n",
       "    .dataframe tbody tr th {\n",
       "        vertical-align: top;\n",
       "    }\n",
       "\n",
       "    .dataframe thead th {\n",
       "        text-align: right;\n",
       "    }\n",
       "</style>\n",
       "<table border=\"1\" class=\"dataframe\">\n",
       "  <thead>\n",
       "    <tr style=\"text-align: right;\">\n",
       "      <th></th>\n",
       "      <th>Model Name</th>\n",
       "      <th>Precision_at_K</th>\n",
       "    </tr>\n",
       "  </thead>\n",
       "  <tbody>\n",
       "    <tr>\n",
       "      <th>0</th>\n",
       "      <td>LGBM</td>\n",
       "      <td>0.964205</td>\n",
       "    </tr>\n",
       "    <tr>\n",
       "      <th>0</th>\n",
       "      <td>XGB</td>\n",
       "      <td>0.963528</td>\n",
       "    </tr>\n",
       "    <tr>\n",
       "      <th>0</th>\n",
       "      <td>KNN</td>\n",
       "      <td>0.671175</td>\n",
       "    </tr>\n",
       "  </tbody>\n",
       "</table>\n",
       "</div>"
      ],
      "text/plain": [
       "  Model Name  Precision_at_K\n",
       "0       LGBM        0.964205\n",
       "0        XGB        0.963528\n",
       "0        KNN        0.671175"
      ]
     },
     "execution_count": 106,
     "metadata": {},
     "output_type": "execute_result"
    }
   ],
   "source": [
    "model_performance_base =pd.concat([xgb_performance, KNN_performance, lgbm_performance])\n",
    "model_performance_base.sort_values('Precision_at_K', ascending= False)"
   ]
  },
  {
   "cell_type": "markdown",
   "id": "9818b09c",
   "metadata": {},
   "source": [
    "### Dropando as colunas -> ('id','in_store_wifi', 'dressing_room', 'store_size') "
   ]
  },
  {
   "cell_type": "code",
   "execution_count": null,
   "id": "464500bd",
   "metadata": {
    "ExecuteTime": {
     "end_time": "2023-07-15T19:18:58.833887Z",
     "start_time": "2023-07-15T19:18:58.823063Z"
    }
   },
   "outputs": [],
   "source": [
    "model_performance_drop =pd.concat([xgb_performance_drop, knn_performance_drop, lgbm_performance_drop])\n",
    "model_performance_drop.sort_values('Precision_at_K', ascending= False)"
   ]
  },
  {
   "cell_type": "markdown",
   "id": "bf4ef8e5",
   "metadata": {},
   "source": [
    "### Dropando as colunas -> ('id','in_store_wifi', 'dressing_room', 'store_size','delivery_delay_in_minutes','waiting_room', 'kids_entertainment', 'seller_service') "
   ]
  },
  {
   "cell_type": "code",
   "execution_count": null,
   "id": "0b48870a",
   "metadata": {
    "ExecuteTime": {
     "end_time": "2023-07-15T19:19:00.264935Z",
     "start_time": "2023-07-15T19:19:00.254410Z"
    }
   },
   "outputs": [],
   "source": [
    "model_performance_drop_1 =pd.concat([xgb_performance_drop_1, knn_performance_drop_1, lgbm_performance_drop_1])\n",
    "model_performance_drop_1.sort_values('Precision_at_K', ascending= False)"
   ]
  },
  {
   "cell_type": "markdown",
   "id": "900ee66e",
   "metadata": {},
   "source": [
    "### Drop + Trativa Outliers (Log) <font color='orange'>rodei</font>"
   ]
  },
  {
   "cell_type": "code",
   "execution_count": 20,
   "id": "c1638149",
   "metadata": {},
   "outputs": [
    {
     "data": {
      "text/html": [
       "<div>\n",
       "<style scoped>\n",
       "    .dataframe tbody tr th:only-of-type {\n",
       "        vertical-align: middle;\n",
       "    }\n",
       "\n",
       "    .dataframe tbody tr th {\n",
       "        vertical-align: top;\n",
       "    }\n",
       "\n",
       "    .dataframe thead th {\n",
       "        text-align: right;\n",
       "    }\n",
       "</style>\n",
       "<table border=\"1\" class=\"dataframe\">\n",
       "  <thead>\n",
       "    <tr style=\"text-align: right;\">\n",
       "      <th></th>\n",
       "      <th>Model Name</th>\n",
       "      <th>Precision_at_K</th>\n",
       "    </tr>\n",
       "  </thead>\n",
       "  <tbody>\n",
       "    <tr>\n",
       "      <th>0</th>\n",
       "      <td>LGBM</td>\n",
       "      <td>0.924641</td>\n",
       "    </tr>\n",
       "    <tr>\n",
       "      <th>0</th>\n",
       "      <td>XGB</td>\n",
       "      <td>0.924158</td>\n",
       "    </tr>\n",
       "    <tr>\n",
       "      <th>0</th>\n",
       "      <td>KNN</td>\n",
       "      <td>0.780300</td>\n",
       "    </tr>\n",
       "  </tbody>\n",
       "</table>\n",
       "</div>"
      ],
      "text/plain": [
       "  Model Name  Precision_at_K\n",
       "0       LGBM        0.924641\n",
       "0        XGB        0.924158\n",
       "0        KNN        0.780300"
      ]
     },
     "execution_count": 20,
     "metadata": {},
     "output_type": "execute_result"
    }
   ],
   "source": [
    "model_performance_drop_1_log_feature =pd.concat([xgb_performance_drop_1_log_feature, knn_performance_drop_1_log_feature, lgbm_performance_drop_1_log_feature])\n",
    "model_performance_drop_1_log_feature.sort_values('Precision_at_K', ascending= False)"
   ]
  },
  {
   "cell_type": "markdown",
   "id": "9c5537f0",
   "metadata": {},
   "source": [
    "<font color='yellow'>considerando a coluna store_size</font>"
   ]
  },
  {
   "cell_type": "code",
   "execution_count": 72,
   "id": "e10f6b50",
   "metadata": {},
   "outputs": [
    {
     "data": {
      "text/html": [
       "<div>\n",
       "<style scoped>\n",
       "    .dataframe tbody tr th:only-of-type {\n",
       "        vertical-align: middle;\n",
       "    }\n",
       "\n",
       "    .dataframe tbody tr th {\n",
       "        vertical-align: top;\n",
       "    }\n",
       "\n",
       "    .dataframe thead th {\n",
       "        text-align: right;\n",
       "    }\n",
       "</style>\n",
       "<table border=\"1\" class=\"dataframe\">\n",
       "  <thead>\n",
       "    <tr style=\"text-align: right;\">\n",
       "      <th></th>\n",
       "      <th>Model Name</th>\n",
       "      <th>Precision_at_K</th>\n",
       "    </tr>\n",
       "  </thead>\n",
       "  <tbody>\n",
       "    <tr>\n",
       "      <th>0</th>\n",
       "      <td>LGBM</td>\n",
       "      <td>0.930728</td>\n",
       "    </tr>\n",
       "    <tr>\n",
       "      <th>0</th>\n",
       "      <td>XGB</td>\n",
       "      <td>0.929907</td>\n",
       "    </tr>\n",
       "    <tr>\n",
       "      <th>0</th>\n",
       "      <td>KNN</td>\n",
       "      <td>0.788319</td>\n",
       "    </tr>\n",
       "  </tbody>\n",
       "</table>\n",
       "</div>"
      ],
      "text/plain": [
       "  Model Name  Precision_at_K\n",
       "0       LGBM        0.930728\n",
       "0        XGB        0.929907\n",
       "0        KNN        0.788319"
      ]
     },
     "execution_count": 72,
     "metadata": {},
     "output_type": "execute_result"
    }
   ],
   "source": [
    "model_performance_drop_1_log_feature =pd.concat([xgb_performance_drop_1_log_feature, knn_performance_drop_1_log_feature, lgbm_performance_drop_1_log_feature])\n",
    "model_performance_drop_1_log_feature.sort_values('Precision_at_K', ascending= False)"
   ]
  },
  {
   "cell_type": "markdown",
   "id": "f1d93142",
   "metadata": {},
   "source": [
    "# Prevendo os dados de teste"
   ]
  },
  {
   "cell_type": "code",
   "execution_count": 117,
   "id": "2cf9d4d7",
   "metadata": {},
   "outputs": [],
   "source": [
    "path = \"./Data/\"\n",
    "df_teste = pd.read_csv(path + 'test.csv') "
   ]
  },
  {
   "cell_type": "code",
   "execution_count": 118,
   "id": "561f561f",
   "metadata": {},
   "outputs": [],
   "source": [
    "## Renomeando as colunas, removendo letras maiusculas e substituindo espacos por _\n",
    "cols_old = ['id', 'Gender', 'Customer Type', 'Age', 'Type of Purchase','Store size', 'Store distance', 'InStore wifi',\n",
    "            'Open/Close time convenient', 'Easy of online shopping', 'Store location', 'Toilet cleaning', 'Dressing room', \n",
    "            'Waiting room','Kids entertainment', 'Seller service', 'Showroom ', 'Self-Store', 'Purchase service', \n",
    "            'Store Service', 'Cleanliness', 'Carrier delay in minutes', 'Delivery delay in minutes']\n",
    "\n",
    "snakecase = lambda x: inflection.underscore(x.replace(' ', '_'))\n",
    "cols_new = list( map( snakecase, cols_old ) )\n",
    "\n",
    "df_teste.columns = cols_new"
   ]
  },
  {
   "cell_type": "markdown",
   "id": "ab7f3335",
   "metadata": {},
   "source": [
    "<font color='yellow'>Não rodar esse celula de transformação para 0</font>"
   ]
  },
  {
   "cell_type": "code",
   "execution_count": null,
   "id": "bb4ae6b0",
   "metadata": {},
   "outputs": [],
   "source": [
    "# df_teste['carrier_delay_in_minutes'] = df_teste['carrier_delay_in_minutes'].apply(lambda x: 0 if x >= 257 else x)"
   ]
  },
  {
   "cell_type": "markdown",
   "id": "dd41b26d",
   "metadata": {},
   "source": [
    "<font color='yellow'>Ficou faltando rodar com o <font color='orange'>store_size</font>, não rodei pq havia dropado</font>"
   ]
  },
  {
   "cell_type": "code",
   "execution_count": 33,
   "id": "622f8cfb",
   "metadata": {},
   "outputs": [],
   "source": [
    "# df_predict = df_teste.drop(drop_col_1, axis=1)"
   ]
  },
  {
   "cell_type": "code",
   "execution_count": 75,
   "id": "79853dac",
   "metadata": {},
   "outputs": [],
   "source": [
    "# drop_col_2 = ['id', 'in_store_wifi', 'dressing_room', 'delivery_delay_in_minutes', 'waiting_room',\n",
    "#               'kids_entertainment', 'seller_service']\n",
    "\n",
    "# df_predict = df_teste.drop(drop_col_2, axis=1)"
   ]
  },
  {
   "cell_type": "markdown",
   "id": "4ab9cbc4",
   "metadata": {},
   "source": [
    "### <font color='orange'>LGBM</font>"
   ]
  },
  {
   "cell_type": "code",
   "execution_count": 119,
   "id": "4fa1c2a3",
   "metadata": {},
   "outputs": [],
   "source": [
    "df_predict = df_teste.copy()"
   ]
  },
  {
   "cell_type": "code",
   "execution_count": 120,
   "id": "1ba4e78a",
   "metadata": {},
   "outputs": [],
   "source": [
    "# Gender Percentage (Porcentagem de homens e mulheres)\n",
    "fe_gender = df_predict.groupby('gender').size() / len(df_predict)\n",
    "df_predict['gender'] = df_predict['gender'].map( fe_gender )\n",
    "\n",
    "# customer_type - Frequency Encoding / Target Encoding / Weighted Targed Encoding\n",
    "fe_customer_type = df_predict.groupby( 'customer_type').size() / len( df_predict )\n",
    "df_predict['customer_type'] = df_predict['customer_type'].map( fe_customer_type )\n",
    "\n",
    "# type_of_purchase - Frequency Encoding / Target Encoding\n",
    "fe_type_of_purchase = df_predict.groupby( 'type_of_purchase' ).size() / len( df_predict ) \n",
    "df_predict['type_of_purchase'] = df_predict['type_of_purchase'].map( fe_type_of_purchase )\n",
    "\n",
    "# Ajuste coluna customer_type para 1 loyal e 0 disloyal\n",
    "df_predict['store_size'] = df_predict['store_size'].apply(lambda x: 2 if(x =='Large') else 1 if(x == 'Medium') else 0)\n",
    "\n",
    "# Criando coluna Faixa_Etaria\n",
    "df_predict['age_range'] = df_predict['age'].apply(lambda x: 1 if x <= 18 else\n",
    "                                            2 if ((x > 18) and (x <= 30)) else\n",
    "                                            3 if (x > 30) and (x <= 50) else \n",
    "                                            4 if (x > 50) and (x <= 70) else 5\n",
    "                                            ) \n",
    "\n",
    "# Age\n",
    "df_predict['age'] = mms_age.fit_transform( df_predict[['age']].values )\n",
    "\n",
    "# Store Size\n",
    "df_predict['store_size'] = oenc.fit_transform( df_predict[['store_size']].values )\n",
    "\n",
    "# lgbm_predict = model_lgbm_drop_1_log_feature.predict( df_predict )\n",
    "lgbm_predict = model_lgbm.predict( df_predict )"
   ]
  },
  {
   "cell_type": "code",
   "execution_count": 121,
   "id": "4f75168c",
   "metadata": {},
   "outputs": [
    {
     "data": {
      "text/html": [
       "<div>\n",
       "<style scoped>\n",
       "    .dataframe tbody tr th:only-of-type {\n",
       "        vertical-align: middle;\n",
       "    }\n",
       "\n",
       "    .dataframe tbody tr th {\n",
       "        vertical-align: top;\n",
       "    }\n",
       "\n",
       "    .dataframe thead th {\n",
       "        text-align: right;\n",
       "    }\n",
       "</style>\n",
       "<table border=\"1\" class=\"dataframe\">\n",
       "  <thead>\n",
       "    <tr style=\"text-align: right;\">\n",
       "      <th></th>\n",
       "      <th>id</th>\n",
       "      <th>Satisfaction</th>\n",
       "    </tr>\n",
       "  </thead>\n",
       "  <tbody>\n",
       "    <tr>\n",
       "      <th>0</th>\n",
       "      <td>19556</td>\n",
       "      <td>1</td>\n",
       "    </tr>\n",
       "    <tr>\n",
       "      <th>1</th>\n",
       "      <td>90035</td>\n",
       "      <td>1</td>\n",
       "    </tr>\n",
       "    <tr>\n",
       "      <th>2</th>\n",
       "      <td>12360</td>\n",
       "      <td>0</td>\n",
       "    </tr>\n",
       "    <tr>\n",
       "      <th>3</th>\n",
       "      <td>77959</td>\n",
       "      <td>1</td>\n",
       "    </tr>\n",
       "    <tr>\n",
       "      <th>4</th>\n",
       "      <td>36875</td>\n",
       "      <td>0</td>\n",
       "    </tr>\n",
       "  </tbody>\n",
       "</table>\n",
       "</div>"
      ],
      "text/plain": [
       "      id  Satisfaction\n",
       "0  19556             1\n",
       "1  90035             1\n",
       "2  12360             0\n",
       "3  77959             1\n",
       "4  36875             0"
      ]
     },
     "execution_count": 121,
     "metadata": {},
     "output_type": "execute_result"
    }
   ],
   "source": [
    "df_submission = df_teste\n",
    "df_submission['Satisfaction'] = lgbm_predict\n",
    "df_submission = df_submission[['id', 'Satisfaction']]\n",
    "df_submission.head()"
   ]
  },
  {
   "cell_type": "code",
   "execution_count": 122,
   "id": "4e93d6a2",
   "metadata": {},
   "outputs": [],
   "source": [
    "path = \"C:/Users/Lucas_Lab/Desktop/Nova pasta/Hackday_InStyle_Promoter_Score/Predictions/\"\n",
    "df_submission.to_csv(path + 'submission.csv', index=False, sep=',')"
   ]
  },
  {
   "cell_type": "markdown",
   "id": "b8c30124",
   "metadata": {},
   "source": [
    "### <font color='orange'>XGB</font>"
   ]
  },
  {
   "cell_type": "code",
   "execution_count": 113,
   "id": "ef9c274e",
   "metadata": {},
   "outputs": [],
   "source": [
    "df_predict = df_teste.copy()"
   ]
  },
  {
   "cell_type": "code",
   "execution_count": 114,
   "id": "7855f8a2",
   "metadata": {},
   "outputs": [],
   "source": [
    "# Gender Percentage (Porcentagem de homens e mulheres)\n",
    "fe_gender = df_predict.groupby('gender').size() / len(df_predict)\n",
    "df_predict['gender'] = df_predict['gender'].map( fe_gender )\n",
    "\n",
    "# customer_type - Frequency Encoding / Target Encoding / Weighted Targed Encoding\n",
    "fe_customer_type = df_predict.groupby( 'customer_type').size() / len( df_predict )\n",
    "df_predict['customer_type'] = df_predict['customer_type'].map( fe_customer_type )\n",
    "\n",
    "# type_of_purchase - Frequency Encoding / Target Encoding\n",
    "fe_type_of_purchase = df_predict.groupby( 'type_of_purchase' ).size() / len( df_predict ) \n",
    "df_predict['type_of_purchase'] = df_predict['type_of_purchase'].map( fe_type_of_purchase )\n",
    "\n",
    "# Ajuste coluna customer_type para 1 loyal e 0 disloyal\n",
    "df_predict['store_size'] = df_predict['store_size'].apply(lambda x: 2 if(x =='Large') else 1 if(x == 'Medium') else 0)\n",
    "\n",
    "# Criando coluna Faixa_Etaria\n",
    "df_predict['age_range'] = df_predict['age'].apply(lambda x: 1 if x <= 18 else\n",
    "                                            2 if ((x > 18) and (x <= 30)) else\n",
    "                                            3 if (x > 30) and (x <= 50) else \n",
    "                                            4 if (x > 50) and (x <= 70) else 5\n",
    "                                            ) \n",
    "\n",
    "# Age\n",
    "df_predict['age'] = mms_age.fit_transform( df_predict[['age']].values )\n",
    "\n",
    "# Store Size\n",
    "df_predict['store_size'] = oenc.fit_transform( df_predict[['store_size']].values )\n",
    "\n",
    "xgb_predict = xgb_model.predict( df_predict )"
   ]
  },
  {
   "cell_type": "code",
   "execution_count": 115,
   "id": "4cb276e8",
   "metadata": {},
   "outputs": [
    {
     "data": {
      "text/html": [
       "<div>\n",
       "<style scoped>\n",
       "    .dataframe tbody tr th:only-of-type {\n",
       "        vertical-align: middle;\n",
       "    }\n",
       "\n",
       "    .dataframe tbody tr th {\n",
       "        vertical-align: top;\n",
       "    }\n",
       "\n",
       "    .dataframe thead th {\n",
       "        text-align: right;\n",
       "    }\n",
       "</style>\n",
       "<table border=\"1\" class=\"dataframe\">\n",
       "  <thead>\n",
       "    <tr style=\"text-align: right;\">\n",
       "      <th></th>\n",
       "      <th>id</th>\n",
       "      <th>Satisfaction</th>\n",
       "    </tr>\n",
       "  </thead>\n",
       "  <tbody>\n",
       "    <tr>\n",
       "      <th>0</th>\n",
       "      <td>19556</td>\n",
       "      <td>1</td>\n",
       "    </tr>\n",
       "    <tr>\n",
       "      <th>1</th>\n",
       "      <td>90035</td>\n",
       "      <td>1</td>\n",
       "    </tr>\n",
       "    <tr>\n",
       "      <th>2</th>\n",
       "      <td>12360</td>\n",
       "      <td>0</td>\n",
       "    </tr>\n",
       "    <tr>\n",
       "      <th>3</th>\n",
       "      <td>77959</td>\n",
       "      <td>1</td>\n",
       "    </tr>\n",
       "    <tr>\n",
       "      <th>4</th>\n",
       "      <td>36875</td>\n",
       "      <td>0</td>\n",
       "    </tr>\n",
       "  </tbody>\n",
       "</table>\n",
       "</div>"
      ],
      "text/plain": [
       "      id  Satisfaction\n",
       "0  19556             1\n",
       "1  90035             1\n",
       "2  12360             0\n",
       "3  77959             1\n",
       "4  36875             0"
      ]
     },
     "execution_count": 115,
     "metadata": {},
     "output_type": "execute_result"
    }
   ],
   "source": [
    "df_submission = df_teste\n",
    "df_submission['Satisfaction'] = xgb_predict\n",
    "df_submission = df_submission[['id', 'Satisfaction']]\n",
    "df_submission.head()"
   ]
  },
  {
   "cell_type": "code",
   "execution_count": 116,
   "id": "b4080e6d",
   "metadata": {},
   "outputs": [],
   "source": [
    "path = \"C:/Users/Lucas_Lab/Desktop/Nova pasta/Hackday_InStyle_Promoter_Score/Predictions/\"\n",
    "df_submission.to_csv(path + 'submission.csv', index=False, sep=',')"
   ]
  },
  {
   "cell_type": "code",
   "execution_count": null,
   "id": "9ac2b0aa",
   "metadata": {},
   "outputs": [],
   "source": []
  }
 ],
 "metadata": {
  "hide_input": false,
  "kernelspec": {
   "display_name": "Python 3 (ipykernel)",
   "language": "python",
   "name": "python3"
  },
  "language_info": {
   "codemirror_mode": {
    "name": "ipython",
    "version": 3
   },
   "file_extension": ".py",
   "mimetype": "text/x-python",
   "name": "python",
   "nbconvert_exporter": "python",
   "pygments_lexer": "ipython3",
   "version": "3.10.9"
  }
 },
 "nbformat": 4,
 "nbformat_minor": 5
}
